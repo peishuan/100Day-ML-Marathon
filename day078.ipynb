{
 "cells": [
  {
   "cell_type": "raw",
   "metadata": {},
   "source": [
    "範例重點\n",
    "學習在模型開始前檢查各個環節\n",
    "是否有 GPU 資源\n",
    "將前處理轉為函式，統一處理訓練、驗證與測試集\n",
    "將超參數變數化，易於重複使用函式、模型等"
   ]
  },
  {
   "cell_type": "code",
   "execution_count": 3,
   "metadata": {},
   "outputs": [
    {
     "name": "stdout",
     "output_type": "stream",
     "text": [
      "/bin/sh: nvidia-smi: command not found\r\n"
     ]
    }
   ],
   "source": [
    "## 確認硬體資源 (如果你是在 Linux, 若是在 Windows, 請參考 https://blog.csdn.net/idwtwt/article/details/78017565)\n",
    "!nvidia-smi"
   ]
  },
  {
   "cell_type": "code",
   "execution_count": 4,
   "metadata": {},
   "outputs": [
    {
     "name": "stderr",
     "output_type": "stream",
     "text": [
      "Using TensorFlow backend.\n"
     ]
    }
   ],
   "source": [
    "import os\n",
    "import keras\n",
    "\n",
    "# 本範例不需使用 GPU, 將 GPU 設定為 \"無\"\n",
    "os.environ[\"CUDA_VISIBLE_DEVICES\"] = \"\""
   ]
  },
  {
   "cell_type": "code",
   "execution_count": 5,
   "metadata": {},
   "outputs": [],
   "source": [
    "# 從 Keras 的內建功能中，取得 train 與 test 資料集\n",
    "train, test = keras.datasets.cifar10.load_data()"
   ]
  },
  {
   "cell_type": "code",
   "execution_count": 6,
   "metadata": {},
   "outputs": [],
   "source": [
    "## 資料前處理\n",
    "def preproc_x(x, flatten=True):\n",
    "    x = x / 255.\n",
    "    if flatten:\n",
    "        x = x.reshape((len(x), -1))\n",
    "    return x\n",
    "\n",
    "def preproc_y(y, num_classes=10):\n",
    "    if y.shape[-1] == 1:\n",
    "        y = keras.utils.to_categorical(y, num_classes)\n",
    "    return y   "
   ]
  },
  {
   "cell_type": "code",
   "execution_count": 7,
   "metadata": {},
   "outputs": [],
   "source": [
    "x_train, y_train = train\n",
    "x_test, y_test = test\n",
    "\n",
    "# 資料前處理 - X 標準化\n",
    "x_train = preproc_x(x_train)\n",
    "x_test = preproc_x(x_test)\n",
    "\n",
    "# 資料前處理 -Y 轉成 onehot\n",
    "y_train = preproc_y(y_train)\n",
    "y_test = preproc_y(y_test)"
   ]
  },
  {
   "cell_type": "code",
   "execution_count": 8,
   "metadata": {},
   "outputs": [],
   "source": [
    "def build_mlp(input_shape, output_units=10, num_neurons=[512, 256, 128]):\n",
    "    input_layer = keras.layers.Input(input_shape)\n",
    "    \n",
    "    for i, n_units in enumerate(num_neurons):\n",
    "        if i == 0:\n",
    "            x = keras.layers.Dense(units=n_units, activation=\"relu\", name=\"hidden_layer\"+str(i+1))(input_layer)\n",
    "        else:\n",
    "            x = keras.layers.Dense(units=n_units, activation=\"relu\", name=\"hidden_layer\"+str(i+1))(x)\n",
    "    \n",
    "    out = keras.layers.Dense(units=output_units, activation=\"softmax\", name=\"output\")(x)\n",
    "    \n",
    "    model = keras.models.Model(inputs=[input_layer], outputs=[out])\n",
    "    return model"
   ]
  },
  {
   "cell_type": "code",
   "execution_count": 9,
   "metadata": {},
   "outputs": [
    {
     "name": "stdout",
     "output_type": "stream",
     "text": [
      "WARNING:tensorflow:From /Users/lin_peihsuan/anaconda3/lib/python3.6/site-packages/tensorflow/python/framework/op_def_library.py:263: colocate_with (from tensorflow.python.framework.ops) is deprecated and will be removed in a future version.\n",
      "Instructions for updating:\n",
      "Colocations handled automatically by placer.\n",
      "_________________________________________________________________\n",
      "Layer (type)                 Output Shape              Param #   \n",
      "=================================================================\n",
      "input_1 (InputLayer)         (None, 3072)              0         \n",
      "_________________________________________________________________\n",
      "hidden_layer1 (Dense)        (None, 512)               1573376   \n",
      "_________________________________________________________________\n",
      "hidden_layer2 (Dense)        (None, 256)               131328    \n",
      "_________________________________________________________________\n",
      "hidden_layer3 (Dense)        (None, 128)               32896     \n",
      "_________________________________________________________________\n",
      "output (Dense)               (None, 10)                1290      \n",
      "=================================================================\n",
      "Total params: 1,738,890\n",
      "Trainable params: 1,738,890\n",
      "Non-trainable params: 0\n",
      "_________________________________________________________________\n"
     ]
    }
   ],
   "source": [
    "model = build_mlp(input_shape=x_train.shape[1:])\n",
    "model.summary()"
   ]
  },
  {
   "cell_type": "code",
   "execution_count": 10,
   "metadata": {},
   "outputs": [],
   "source": [
    "## 超參數設定\n",
    "LEARNING_RATE = 0.001\n",
    "EPOCHS = 100\n",
    "BATCH_SIZE = 256"
   ]
  },
  {
   "cell_type": "code",
   "execution_count": 11,
   "metadata": {},
   "outputs": [],
   "source": [
    "optimizer = keras.optimizers.Adam(lr=LEARNING_RATE)\n",
    "model.compile(loss=\"categorical_crossentropy\", metrics=[\"accuracy\"], optimizer=optimizer)"
   ]
  },
  {
   "cell_type": "code",
   "execution_count": 12,
   "metadata": {},
   "outputs": [
    {
     "name": "stdout",
     "output_type": "stream",
     "text": [
      "WARNING:tensorflow:From /Users/lin_peihsuan/anaconda3/lib/python3.6/site-packages/tensorflow/python/ops/math_ops.py:3066: to_int32 (from tensorflow.python.ops.math_ops) is deprecated and will be removed in a future version.\n",
      "Instructions for updating:\n",
      "Use tf.cast instead.\n",
      "Train on 50000 samples, validate on 10000 samples\n",
      "Epoch 1/100\n",
      "50000/50000 [==============================] - 14s 286us/step - loss: 1.9198 - acc: 0.3103 - val_loss: 1.7741 - val_acc: 0.3566\n",
      "Epoch 2/100\n",
      "50000/50000 [==============================] - 11s 221us/step - loss: 1.6955 - acc: 0.3940 - val_loss: 1.7064 - val_acc: 0.3864\n",
      "Epoch 3/100\n",
      "50000/50000 [==============================] - 12s 236us/step - loss: 1.6174 - acc: 0.4246 - val_loss: 1.5826 - val_acc: 0.4384\n",
      "Epoch 4/100\n",
      "50000/50000 [==============================] - 12s 243us/step - loss: 1.5470 - acc: 0.4497 - val_loss: 1.5209 - val_acc: 0.4624\n",
      "Epoch 5/100\n",
      "50000/50000 [==============================] - 13s 253us/step - loss: 1.4984 - acc: 0.4665 - val_loss: 1.5418 - val_acc: 0.4544\n",
      "Epoch 6/100\n",
      "50000/50000 [==============================] - 13s 262us/step - loss: 1.4612 - acc: 0.4782 - val_loss: 1.5250 - val_acc: 0.4536\n",
      "Epoch 7/100\n",
      "50000/50000 [==============================] - 13s 267us/step - loss: 1.4360 - acc: 0.4892 - val_loss: 1.4635 - val_acc: 0.4777\n",
      "Epoch 8/100\n",
      "50000/50000 [==============================] - 13s 256us/step - loss: 1.3991 - acc: 0.5053 - val_loss: 1.4454 - val_acc: 0.4901\n",
      "Epoch 9/100\n",
      "50000/50000 [==============================] - 18s 359us/step - loss: 1.3638 - acc: 0.5142 - val_loss: 1.4543 - val_acc: 0.4861\n",
      "Epoch 10/100\n",
      "50000/50000 [==============================] - 15s 296us/step - loss: 1.3439 - acc: 0.5214 - val_loss: 1.4284 - val_acc: 0.4906\n",
      "Epoch 11/100\n",
      "50000/50000 [==============================] - 14s 272us/step - loss: 1.3160 - acc: 0.5310 - val_loss: 1.4137 - val_acc: 0.4989\n",
      "Epoch 12/100\n",
      "50000/50000 [==============================] - 15s 290us/step - loss: 1.2940 - acc: 0.5387 - val_loss: 1.3974 - val_acc: 0.4995\n",
      "Epoch 13/100\n",
      "50000/50000 [==============================] - 12s 240us/step - loss: 1.2664 - acc: 0.5499 - val_loss: 1.4020 - val_acc: 0.5072\n",
      "Epoch 14/100\n",
      "50000/50000 [==============================] - 13s 260us/step - loss: 1.2441 - acc: 0.5561 - val_loss: 1.3859 - val_acc: 0.5059\n",
      "Epoch 15/100\n",
      "50000/50000 [==============================] - 11s 227us/step - loss: 1.2220 - acc: 0.5639 - val_loss: 1.4216 - val_acc: 0.5013\n",
      "Epoch 16/100\n",
      "50000/50000 [==============================] - 12s 247us/step - loss: 1.1857 - acc: 0.5784 - val_loss: 1.4117 - val_acc: 0.5079\n",
      "Epoch 17/100\n",
      "50000/50000 [==============================] - 10s 207us/step - loss: 1.1792 - acc: 0.5806 - val_loss: 1.4066 - val_acc: 0.5093\n",
      "Epoch 18/100\n",
      "50000/50000 [==============================] - 12s 240us/step - loss: 1.1671 - acc: 0.5841 - val_loss: 1.3984 - val_acc: 0.5108\n",
      "Epoch 19/100\n",
      "50000/50000 [==============================] - 13s 266us/step - loss: 1.1427 - acc: 0.5940 - val_loss: 1.4080 - val_acc: 0.5070\n",
      "Epoch 20/100\n",
      "50000/50000 [==============================] - 13s 260us/step - loss: 1.1224 - acc: 0.6008 - val_loss: 1.4035 - val_acc: 0.5129\n",
      "Epoch 21/100\n",
      "50000/50000 [==============================] - 12s 248us/step - loss: 1.1017 - acc: 0.6084 - val_loss: 1.3981 - val_acc: 0.5222\n",
      "Epoch 22/100\n",
      "50000/50000 [==============================] - 10s 205us/step - loss: 1.0808 - acc: 0.6142 - val_loss: 1.3663 - val_acc: 0.5314\n",
      "Epoch 23/100\n",
      "50000/50000 [==============================] - 11s 221us/step - loss: 1.0619 - acc: 0.6201 - val_loss: 1.3934 - val_acc: 0.5181\n",
      "Epoch 24/100\n",
      "50000/50000 [==============================] - 11s 227us/step - loss: 1.0498 - acc: 0.6249 - val_loss: 1.4201 - val_acc: 0.5160\n",
      "Epoch 25/100\n",
      "50000/50000 [==============================] - 11s 220us/step - loss: 1.0289 - acc: 0.6335 - val_loss: 1.3866 - val_acc: 0.5223\n",
      "Epoch 26/100\n",
      "50000/50000 [==============================] - 12s 241us/step - loss: 1.0058 - acc: 0.6437 - val_loss: 1.4127 - val_acc: 0.5234\n",
      "Epoch 27/100\n",
      "50000/50000 [==============================] - 11s 230us/step - loss: 0.9845 - acc: 0.6481 - val_loss: 1.4016 - val_acc: 0.5234\n",
      "Epoch 28/100\n",
      "50000/50000 [==============================] - 12s 239us/step - loss: 0.9750 - acc: 0.6516 - val_loss: 1.4416 - val_acc: 0.5191\n",
      "Epoch 29/100\n",
      "50000/50000 [==============================] - 13s 256us/step - loss: 0.9505 - acc: 0.6606 - val_loss: 1.4463 - val_acc: 0.5218\n",
      "Epoch 30/100\n",
      "50000/50000 [==============================] - 13s 262us/step - loss: 0.9473 - acc: 0.6621 - val_loss: 1.4717 - val_acc: 0.5174\n",
      "Epoch 31/100\n",
      "50000/50000 [==============================] - 14s 279us/step - loss: 0.9275 - acc: 0.6695 - val_loss: 1.4805 - val_acc: 0.5141\n",
      "Epoch 32/100\n",
      "50000/50000 [==============================] - 12s 232us/step - loss: 0.9034 - acc: 0.6772 - val_loss: 1.4470 - val_acc: 0.5284\n",
      "Epoch 33/100\n",
      "50000/50000 [==============================] - 11s 213us/step - loss: 0.8953 - acc: 0.6801 - val_loss: 1.4784 - val_acc: 0.5209\n",
      "Epoch 34/100\n",
      "50000/50000 [==============================] - 11s 213us/step - loss: 0.8696 - acc: 0.6892 - val_loss: 1.4891 - val_acc: 0.5203\n",
      "Epoch 35/100\n",
      "50000/50000 [==============================] - 14s 284us/step - loss: 0.8632 - acc: 0.6901 - val_loss: 1.4842 - val_acc: 0.5192\n",
      "Epoch 36/100\n",
      "50000/50000 [==============================] - 11s 226us/step - loss: 0.8285 - acc: 0.7037 - val_loss: 1.5401 - val_acc: 0.5189\n",
      "Epoch 37/100\n",
      "50000/50000 [==============================] - 11s 219us/step - loss: 0.8147 - acc: 0.7091 - val_loss: 1.4887 - val_acc: 0.5320\n",
      "Epoch 38/100\n",
      "50000/50000 [==============================] - 11s 221us/step - loss: 0.8124 - acc: 0.7096 - val_loss: 1.5405 - val_acc: 0.5150\n",
      "Epoch 39/100\n",
      "50000/50000 [==============================] - 11s 222us/step - loss: 0.7912 - acc: 0.7172 - val_loss: 1.5819 - val_acc: 0.5225\n",
      "Epoch 40/100\n",
      "50000/50000 [==============================] - 11s 218us/step - loss: 0.7700 - acc: 0.7244 - val_loss: 1.5970 - val_acc: 0.5208\n",
      "Epoch 41/100\n",
      "50000/50000 [==============================] - 11s 218us/step - loss: 0.7645 - acc: 0.7272 - val_loss: 1.6365 - val_acc: 0.5248\n",
      "Epoch 42/100\n",
      "50000/50000 [==============================] - 11s 223us/step - loss: 0.7377 - acc: 0.7373 - val_loss: 1.6379 - val_acc: 0.5163\n",
      "Epoch 43/100\n",
      "50000/50000 [==============================] - 11s 218us/step - loss: 0.7401 - acc: 0.7368 - val_loss: 1.6416 - val_acc: 0.5241\n",
      "Epoch 44/100\n",
      "50000/50000 [==============================] - 11s 226us/step - loss: 0.7078 - acc: 0.7470 - val_loss: 1.6667 - val_acc: 0.5226\n",
      "Epoch 45/100\n",
      "50000/50000 [==============================] - 11s 225us/step - loss: 0.7088 - acc: 0.7472 - val_loss: 1.6881 - val_acc: 0.5183\n",
      "Epoch 46/100\n",
      "50000/50000 [==============================] - 11s 221us/step - loss: 0.6807 - acc: 0.7570 - val_loss: 1.6796 - val_acc: 0.5199\n",
      "Epoch 47/100\n",
      "50000/50000 [==============================] - 11s 226us/step - loss: 0.6689 - acc: 0.7621 - val_loss: 1.7186 - val_acc: 0.5130\n",
      "Epoch 48/100\n",
      "50000/50000 [==============================] - 11s 219us/step - loss: 0.6606 - acc: 0.7634 - val_loss: 1.7790 - val_acc: 0.5168\n",
      "Epoch 49/100\n",
      "50000/50000 [==============================] - 11s 217us/step - loss: 0.6454 - acc: 0.7677 - val_loss: 1.7606 - val_acc: 0.5133\n",
      "Epoch 50/100\n",
      "50000/50000 [==============================] - 11s 227us/step - loss: 0.6382 - acc: 0.7704 - val_loss: 1.7993 - val_acc: 0.5139\n",
      "Epoch 51/100\n",
      "50000/50000 [==============================] - 11s 219us/step - loss: 0.6139 - acc: 0.7804 - val_loss: 1.8411 - val_acc: 0.5148\n",
      "Epoch 52/100\n",
      "50000/50000 [==============================] - 11s 216us/step - loss: 0.6060 - acc: 0.7826 - val_loss: 1.8324 - val_acc: 0.5203\n",
      "Epoch 53/100\n",
      "50000/50000 [==============================] - 11s 230us/step - loss: 0.5867 - acc: 0.7909 - val_loss: 1.8348 - val_acc: 0.5142\n",
      "Epoch 54/100\n",
      "50000/50000 [==============================] - 13s 263us/step - loss: 0.5960 - acc: 0.7838 - val_loss: 1.8962 - val_acc: 0.5130\n",
      "Epoch 55/100\n",
      "50000/50000 [==============================] - 11s 226us/step - loss: 0.5706 - acc: 0.7949 - val_loss: 1.9099 - val_acc: 0.5176\n",
      "Epoch 56/100\n",
      "50000/50000 [==============================] - 11s 220us/step - loss: 0.5756 - acc: 0.7940 - val_loss: 1.9260 - val_acc: 0.5059\n"
     ]
    },
    {
     "name": "stdout",
     "output_type": "stream",
     "text": [
      "Epoch 57/100\n",
      "50000/50000 [==============================] - 10s 207us/step - loss: 0.5638 - acc: 0.7996 - val_loss: 1.9231 - val_acc: 0.5071\n",
      "Epoch 58/100\n",
      "50000/50000 [==============================] - 11s 212us/step - loss: 0.5447 - acc: 0.8044 - val_loss: 1.9342 - val_acc: 0.5192\n",
      "Epoch 59/100\n",
      "50000/50000 [==============================] - 10s 198us/step - loss: 0.5265 - acc: 0.8111 - val_loss: 1.9868 - val_acc: 0.5094\n",
      "Epoch 60/100\n",
      "50000/50000 [==============================] - 10s 205us/step - loss: 0.5134 - acc: 0.8177 - val_loss: 2.0551 - val_acc: 0.5062\n",
      "Epoch 61/100\n",
      "50000/50000 [==============================] - 11s 210us/step - loss: 0.4981 - acc: 0.8221 - val_loss: 2.0989 - val_acc: 0.5072\n",
      "Epoch 62/100\n",
      "50000/50000 [==============================] - 10s 204us/step - loss: 0.4990 - acc: 0.8213 - val_loss: 2.0994 - val_acc: 0.5079\n",
      "Epoch 63/100\n",
      "50000/50000 [==============================] - 10s 205us/step - loss: 0.4906 - acc: 0.8234 - val_loss: 2.0967 - val_acc: 0.5138\n",
      "Epoch 64/100\n",
      "50000/50000 [==============================] - 10s 208us/step - loss: 0.4779 - acc: 0.8301 - val_loss: 2.1229 - val_acc: 0.5167\n",
      "Epoch 65/100\n",
      "50000/50000 [==============================] - 10s 202us/step - loss: 0.4683 - acc: 0.8323 - val_loss: 2.1908 - val_acc: 0.5127\n",
      "Epoch 66/100\n",
      "50000/50000 [==============================] - 11s 230us/step - loss: 0.4503 - acc: 0.8391 - val_loss: 2.1950 - val_acc: 0.5148\n",
      "Epoch 67/100\n",
      "50000/50000 [==============================] - 11s 219us/step - loss: 0.4532 - acc: 0.8374 - val_loss: 2.2382 - val_acc: 0.5030\n",
      "Epoch 68/100\n",
      "50000/50000 [==============================] - 11s 217us/step - loss: 0.4401 - acc: 0.8425 - val_loss: 2.2391 - val_acc: 0.5100\n",
      "Epoch 69/100\n",
      "50000/50000 [==============================] - 11s 215us/step - loss: 0.4562 - acc: 0.8361 - val_loss: 2.2704 - val_acc: 0.5128\n",
      "Epoch 70/100\n",
      "50000/50000 [==============================] - 11s 220us/step - loss: 0.4310 - acc: 0.8452 - val_loss: 2.3164 - val_acc: 0.5099\n",
      "Epoch 71/100\n",
      "50000/50000 [==============================] - 11s 216us/step - loss: 0.4336 - acc: 0.8423 - val_loss: 2.3693 - val_acc: 0.5086\n",
      "Epoch 72/100\n",
      "50000/50000 [==============================] - 11s 226us/step - loss: 0.4127 - acc: 0.8516 - val_loss: 2.4057 - val_acc: 0.5023\n",
      "Epoch 73/100\n",
      "50000/50000 [==============================] - 11s 216us/step - loss: 0.4144 - acc: 0.8508 - val_loss: 2.3618 - val_acc: 0.5083\n",
      "Epoch 74/100\n",
      "50000/50000 [==============================] - 11s 213us/step - loss: 0.3838 - acc: 0.8631 - val_loss: 2.4836 - val_acc: 0.5017\n",
      "Epoch 75/100\n",
      "50000/50000 [==============================] - 11s 224us/step - loss: 0.4117 - acc: 0.8516 - val_loss: 2.4635 - val_acc: 0.5086\n",
      "Epoch 76/100\n",
      "50000/50000 [==============================] - 11s 215us/step - loss: 0.3749 - acc: 0.8666 - val_loss: 2.5126 - val_acc: 0.5027\n",
      "Epoch 77/100\n",
      "50000/50000 [==============================] - 11s 214us/step - loss: 0.3677 - acc: 0.8694 - val_loss: 2.5411 - val_acc: 0.5122\n",
      "Epoch 78/100\n",
      "50000/50000 [==============================] - 11s 223us/step - loss: 0.3804 - acc: 0.8629 - val_loss: 2.5422 - val_acc: 0.5107\n",
      "Epoch 79/100\n",
      "50000/50000 [==============================] - 11s 214us/step - loss: 0.3788 - acc: 0.8636 - val_loss: 2.5499 - val_acc: 0.5048\n",
      "Epoch 80/100\n",
      "50000/50000 [==============================] - 11s 226us/step - loss: 0.3503 - acc: 0.8740 - val_loss: 2.5968 - val_acc: 0.5097\n",
      "Epoch 81/100\n",
      "50000/50000 [==============================] - 12s 238us/step - loss: 0.3683 - acc: 0.8679 - val_loss: 2.6013 - val_acc: 0.5050\n",
      "Epoch 82/100\n",
      "50000/50000 [==============================] - 10s 208us/step - loss: 0.3339 - acc: 0.8821 - val_loss: 2.6067 - val_acc: 0.5060\n",
      "Epoch 83/100\n",
      "50000/50000 [==============================] - 11s 216us/step - loss: 0.3545 - acc: 0.8723 - val_loss: 2.6368 - val_acc: 0.5038\n",
      "Epoch 84/100\n",
      "50000/50000 [==============================] - 11s 215us/step - loss: 0.3444 - acc: 0.8772 - val_loss: 2.7550 - val_acc: 0.5012\n",
      "Epoch 85/100\n",
      "50000/50000 [==============================] - 11s 213us/step - loss: 0.3464 - acc: 0.8756 - val_loss: 2.7246 - val_acc: 0.5039\n",
      "Epoch 86/100\n",
      "50000/50000 [==============================] - 11s 219us/step - loss: 0.3060 - acc: 0.8917 - val_loss: 2.7300 - val_acc: 0.5014\n",
      "Epoch 87/100\n",
      "50000/50000 [==============================] - 11s 219us/step - loss: 0.3209 - acc: 0.8844 - val_loss: 2.8023 - val_acc: 0.4993\n",
      "Epoch 88/100\n",
      "50000/50000 [==============================] - 11s 212us/step - loss: 0.3228 - acc: 0.8823 - val_loss: 2.8668 - val_acc: 0.5011\n",
      "Epoch 89/100\n",
      "50000/50000 [==============================] - 11s 223us/step - loss: 0.3215 - acc: 0.8849 - val_loss: 2.7917 - val_acc: 0.5085\n",
      "Epoch 90/100\n",
      "50000/50000 [==============================] - 11s 214us/step - loss: 0.2909 - acc: 0.8946 - val_loss: 2.8899 - val_acc: 0.5052\n",
      "Epoch 91/100\n",
      "50000/50000 [==============================] - 11s 214us/step - loss: 0.3015 - acc: 0.8925 - val_loss: 2.9043 - val_acc: 0.4980\n",
      "Epoch 92/100\n",
      "50000/50000 [==============================] - 11s 217us/step - loss: 0.3233 - acc: 0.8820 - val_loss: 2.8717 - val_acc: 0.5085\n",
      "Epoch 93/100\n",
      "50000/50000 [==============================] - 12s 235us/step - loss: 0.3158 - acc: 0.8865 - val_loss: 2.9817 - val_acc: 0.4944\n",
      "Epoch 94/100\n",
      "50000/50000 [==============================] - 12s 232us/step - loss: 0.3079 - acc: 0.8886 - val_loss: 2.9047 - val_acc: 0.4977\n",
      "Epoch 95/100\n",
      "50000/50000 [==============================] - 11s 224us/step - loss: 0.2904 - acc: 0.8947 - val_loss: 3.0053 - val_acc: 0.5000\n",
      "Epoch 96/100\n",
      "50000/50000 [==============================] - 11s 229us/step - loss: 0.2758 - acc: 0.9018 - val_loss: 3.0128 - val_acc: 0.4992\n",
      "Epoch 97/100\n",
      "50000/50000 [==============================] - 11s 228us/step - loss: 0.2907 - acc: 0.8957 - val_loss: 3.0429 - val_acc: 0.5032\n",
      "Epoch 98/100\n",
      "50000/50000 [==============================] - 11s 220us/step - loss: 0.2791 - acc: 0.8990 - val_loss: 3.0627 - val_acc: 0.4973\n",
      "Epoch 99/100\n",
      "50000/50000 [==============================] - 11s 223us/step - loss: 0.2390 - acc: 0.9147 - val_loss: 2.9954 - val_acc: 0.5096\n",
      "Epoch 100/100\n",
      "50000/50000 [==============================] - 11s 230us/step - loss: 0.2842 - acc: 0.8965 - val_loss: 3.1208 - val_acc: 0.5006\n"
     ]
    },
    {
     "data": {
      "text/plain": [
       "<keras.callbacks.History at 0x10cbe3b70>"
      ]
     },
     "execution_count": 12,
     "metadata": {},
     "output_type": "execute_result"
    }
   ],
   "source": [
    "model.fit(x_train, y_train, \n",
    "          epochs=EPOCHS, \n",
    "          batch_size=BATCH_SIZE, \n",
    "          validation_data=(x_test, y_test), \n",
    "          shuffle=True)"
   ]
  },
  {
   "cell_type": "code",
   "execution_count": 21,
   "metadata": {},
   "outputs": [
    {
     "data": {
      "image/png": "[encoded data removed]",
      "text/plain": [
       "<Figure size 432x288 with 1 Axes>"
      ]
     },
     "metadata": {
      "needs_background": "light"
     },
     "output_type": "display_data"
    },
    {
     "data": {
      "image/png": "[encoded data removed]",
      "text/plain": [
       "<Figure size 432x288 with 1 Axes>"
      ]
     },
     "metadata": {
      "needs_background": "light"
     },
     "output_type": "display_data"
    }
   ],
   "source": [
    "# 訓練模型並檢視驗證集的結果\n",
    "import matplotlib.pyplot as plt\n",
    "\n",
    "train_loss = model.history.history[\"loss\"]\n",
    "valid_loss = model.history.history[\"val_loss\"]\n",
    "\n",
    "train_acc = model.history.history[\"acc\"]\n",
    "valid_acc = model.history.history[\"val_acc\"]\n",
    "\n",
    "plt.plot(range(len(train_loss)), train_loss, label=\"train loss\")\n",
    "plt.plot(range(len(valid_loss)), valid_loss, label=\"valid loss\")\n",
    "plt.legend()\n",
    "plt.title(\"Loss\")\n",
    "plt.show()\n",
    "\n",
    "plt.plot(range(len(train_acc)), train_acc, label=\"train accuracy\")\n",
    "plt.plot(range(len(valid_acc)), valid_acc, label=\"valid accuracy\")\n",
    "plt.legend()\n",
    "plt.title(\"Accuracy\")\n",
    "plt.show()"
   ]
  },
  {
   "cell_type": "raw",
   "metadata": {},
   "source": [
    "Work\n",
    "請嘗試將 preproc_x 替換成以每筆資料的 min/max 進行標準化至 -1 ~ 1 間，再進行訓練\n",
    "請嘗試將 mlp 疊更深 (e.g 5~10 層)，進行訓練後觀察 learning curve 的走勢\n",
    "(optional) 請改用 GPU 進行訓練 (如果你有 GPU 的話)，比較使用 CPU 與 GPU 的訓練速度"
   ]
  },
  {
   "cell_type": "code",
   "execution_count": 14,
   "metadata": {},
   "outputs": [],
   "source": [
    "import os\n",
    "import keras"
   ]
  },
  {
   "cell_type": "code",
   "execution_count": 15,
   "metadata": {},
   "outputs": [],
   "source": [
    "# 從 Keras 的內建功能中，取得 train 與 test 資料集\n",
    "train, test = keras.datasets.cifar10.load_data()"
   ]
  },
  {
   "cell_type": "code",
   "execution_count": 16,
   "metadata": {},
   "outputs": [],
   "source": [
    "## 資料前處理\n",
    "def preproc_x(x, flatten=True):\n",
    "    x = 2*(((x - x.min()) / (x.max() - x.min()))-0.5)\n",
    "    if flatten:\n",
    "        x = x.reshape((len(x), -1))\n",
    "    return x\n",
    "\n",
    "def preproc_y(y, num_classes=10):\n",
    "    if y.shape[-1] == 1:\n",
    "        y = keras.utils.to_categorical(y, num_classes)\n",
    "    return y"
   ]
  },
  {
   "cell_type": "code",
   "execution_count": 17,
   "metadata": {},
   "outputs": [],
   "source": [
    "x_train, y_train = train\n",
    "x_test, y_test = test\n",
    "\n",
    "# Preproc the inputs\n",
    "x_train = preproc_x(x_train)\n",
    "x_test = preproc_x(x_test)\n",
    "\n",
    "# Preprc the outputs\n",
    "y_train = preproc_y(y_train)\n",
    "y_test = preproc_y(y_test)"
   ]
  },
  {
   "cell_type": "code",
   "execution_count": 18,
   "metadata": {},
   "outputs": [],
   "source": [
    "def build_mlp(input_shape, output_units=10, num_neurons=[512, 256, 128]):\n",
    "    input_layer = keras.layers.Input(input_shape)\n",
    "    \n",
    "    for i, n_units in enumerate(num_neurons):\n",
    "        if i == 0:\n",
    "            x = keras.layers.Dense(units=n_units, activation=\"relu\", name=\"hidden_layer\"+str(i+1))(input_layer)\n",
    "            x = keras.layers.Dense(units=n_units, activation=\"relu\", name=\"hidden_layer\"+str(i+1))(x)\n",
    "        else:\n",
    "            x = keras.layers.Dense(units=n_units, activation=\"relu\", name=\"hidden_layer\"+str(i+1))(x)\n",
    "            x = keras.layers.Dense(units=n_units, activation=\"relu\", name=\"hidden_layer\"+str(i+1))(x)\n",
    "    \n",
    "    out = keras.layers.Dense(units=output_units, activation=\"softmax\", name=\"output\")(x)\n",
    "    \n",
    "    model = keras.models.Model(inputs=[input_layer], outputs=[out])\n",
    "    return model"
   ]
  },
  {
   "cell_type": "code",
   "execution_count": 22,
   "metadata": {},
   "outputs": [
    {
     "ename": "ValueError",
     "evalue": "The name \"hidden_layer1\" is used 2 times in the model. All layer names should be unique.",
     "output_type": "error",
     "traceback": [
      "\u001b[0;31m---------------------------------------------------------------------------\u001b[0m",
      "\u001b[0;31mValueError\u001b[0m                                Traceback (most recent call last)",
      "\u001b[0;32m<ipython-input-22-3c2e3a13f81e>\u001b[0m in \u001b[0;36m<module>\u001b[0;34m\u001b[0m\n\u001b[0;32m----> 1\u001b[0;31m \u001b[0mmodel\u001b[0m \u001b[0;34m=\u001b[0m \u001b[0mbuild_mlp\u001b[0m\u001b[0;34m(\u001b[0m\u001b[0minput_shape\u001b[0m\u001b[0;34m=\u001b[0m\u001b[0mx_train\u001b[0m\u001b[0;34m.\u001b[0m\u001b[0mshape\u001b[0m\u001b[0;34m[\u001b[0m\u001b[0;36m1\u001b[0m\u001b[0;34m:\u001b[0m\u001b[0;34m]\u001b[0m\u001b[0;34m)\u001b[0m\u001b[0;34m\u001b[0m\u001b[0;34m\u001b[0m\u001b[0m\n\u001b[0m\u001b[1;32m      2\u001b[0m \u001b[0mmodel\u001b[0m\u001b[0;34m.\u001b[0m\u001b[0msummary\u001b[0m\u001b[0;34m(\u001b[0m\u001b[0;34m)\u001b[0m\u001b[0;34m\u001b[0m\u001b[0;34m\u001b[0m\u001b[0m\n",
      "\u001b[0;32m<ipython-input-18-b61ca71e4253>\u001b[0m in \u001b[0;36mbuild_mlp\u001b[0;34m(input_shape, output_units, num_neurons)\u001b[0m\n\u001b[1;32m     12\u001b[0m     \u001b[0mout\u001b[0m \u001b[0;34m=\u001b[0m \u001b[0mkeras\u001b[0m\u001b[0;34m.\u001b[0m\u001b[0mlayers\u001b[0m\u001b[0;34m.\u001b[0m\u001b[0mDense\u001b[0m\u001b[0;34m(\u001b[0m\u001b[0munits\u001b[0m\u001b[0;34m=\u001b[0m\u001b[0moutput_units\u001b[0m\u001b[0;34m,\u001b[0m \u001b[0mactivation\u001b[0m\u001b[0;34m=\u001b[0m\u001b[0;34m\"softmax\"\u001b[0m\u001b[0;34m,\u001b[0m \u001b[0mname\u001b[0m\u001b[0;34m=\u001b[0m\u001b[0;34m\"output\"\u001b[0m\u001b[0;34m)\u001b[0m\u001b[0;34m(\u001b[0m\u001b[0mx\u001b[0m\u001b[0;34m)\u001b[0m\u001b[0;34m\u001b[0m\u001b[0;34m\u001b[0m\u001b[0m\n\u001b[1;32m     13\u001b[0m \u001b[0;34m\u001b[0m\u001b[0m\n\u001b[0;32m---> 14\u001b[0;31m     \u001b[0mmodel\u001b[0m \u001b[0;34m=\u001b[0m \u001b[0mkeras\u001b[0m\u001b[0;34m.\u001b[0m\u001b[0mmodels\u001b[0m\u001b[0;34m.\u001b[0m\u001b[0mModel\u001b[0m\u001b[0;34m(\u001b[0m\u001b[0minputs\u001b[0m\u001b[0;34m=\u001b[0m\u001b[0;34m[\u001b[0m\u001b[0minput_layer\u001b[0m\u001b[0;34m]\u001b[0m\u001b[0;34m,\u001b[0m \u001b[0moutputs\u001b[0m\u001b[0;34m=\u001b[0m\u001b[0;34m[\u001b[0m\u001b[0mout\u001b[0m\u001b[0;34m]\u001b[0m\u001b[0;34m)\u001b[0m\u001b[0;34m\u001b[0m\u001b[0;34m\u001b[0m\u001b[0m\n\u001b[0m\u001b[1;32m     15\u001b[0m     \u001b[0;32mreturn\u001b[0m \u001b[0mmodel\u001b[0m\u001b[0;34m\u001b[0m\u001b[0;34m\u001b[0m\u001b[0m\n",
      "\u001b[0;32m~/anaconda3/lib/python3.6/site-packages/keras/legacy/interfaces.py\u001b[0m in \u001b[0;36mwrapper\u001b[0;34m(*args, **kwargs)\u001b[0m\n\u001b[1;32m     89\u001b[0m                 warnings.warn('Update your `' + object_name + '` call to the ' +\n\u001b[1;32m     90\u001b[0m                               'Keras 2 API: ' + signature, stacklevel=2)\n\u001b[0;32m---> 91\u001b[0;31m             \u001b[0;32mreturn\u001b[0m \u001b[0mfunc\u001b[0m\u001b[0;34m(\u001b[0m\u001b[0;34m*\u001b[0m\u001b[0margs\u001b[0m\u001b[0;34m,\u001b[0m \u001b[0;34m**\u001b[0m\u001b[0mkwargs\u001b[0m\u001b[0;34m)\u001b[0m\u001b[0;34m\u001b[0m\u001b[0;34m\u001b[0m\u001b[0m\n\u001b[0m\u001b[1;32m     92\u001b[0m         \u001b[0mwrapper\u001b[0m\u001b[0;34m.\u001b[0m\u001b[0m_original_function\u001b[0m \u001b[0;34m=\u001b[0m \u001b[0mfunc\u001b[0m\u001b[0;34m\u001b[0m\u001b[0;34m\u001b[0m\u001b[0m\n\u001b[1;32m     93\u001b[0m         \u001b[0;32mreturn\u001b[0m \u001b[0mwrapper\u001b[0m\u001b[0;34m\u001b[0m\u001b[0;34m\u001b[0m\u001b[0m\n",
      "\u001b[0;32m~/anaconda3/lib/python3.6/site-packages/keras/engine/network.py\u001b[0m in \u001b[0;36m__init__\u001b[0;34m(self, *args, **kwargs)\u001b[0m\n\u001b[1;32m     91\u001b[0m                 'inputs' in kwargs and 'outputs' in kwargs):\n\u001b[1;32m     92\u001b[0m             \u001b[0;31m# Graph network\u001b[0m\u001b[0;34m\u001b[0m\u001b[0;34m\u001b[0m\u001b[0;34m\u001b[0m\u001b[0m\n\u001b[0;32m---> 93\u001b[0;31m             \u001b[0mself\u001b[0m\u001b[0;34m.\u001b[0m\u001b[0m_init_graph_network\u001b[0m\u001b[0;34m(\u001b[0m\u001b[0;34m*\u001b[0m\u001b[0margs\u001b[0m\u001b[0;34m,\u001b[0m \u001b[0;34m**\u001b[0m\u001b[0mkwargs\u001b[0m\u001b[0;34m)\u001b[0m\u001b[0;34m\u001b[0m\u001b[0;34m\u001b[0m\u001b[0m\n\u001b[0m\u001b[1;32m     94\u001b[0m         \u001b[0;32melse\u001b[0m\u001b[0;34m:\u001b[0m\u001b[0;34m\u001b[0m\u001b[0;34m\u001b[0m\u001b[0m\n\u001b[1;32m     95\u001b[0m             \u001b[0;31m# Subclassed network\u001b[0m\u001b[0;34m\u001b[0m\u001b[0;34m\u001b[0m\u001b[0;34m\u001b[0m\u001b[0m\n",
      "\u001b[0;32m~/anaconda3/lib/python3.6/site-packages/keras/engine/network.py\u001b[0m in \u001b[0;36m_init_graph_network\u001b[0;34m(self, inputs, outputs, name)\u001b[0m\n\u001b[1;32m    229\u001b[0m         \u001b[0;31m# Keep track of the network's nodes and layers.\u001b[0m\u001b[0;34m\u001b[0m\u001b[0;34m\u001b[0m\u001b[0;34m\u001b[0m\u001b[0m\n\u001b[1;32m    230\u001b[0m         nodes, nodes_by_depth, layers, layers_by_depth = _map_graph_network(\n\u001b[0;32m--> 231\u001b[0;31m             self.inputs, self.outputs)\n\u001b[0m\u001b[1;32m    232\u001b[0m         \u001b[0mself\u001b[0m\u001b[0;34m.\u001b[0m\u001b[0m_network_nodes\u001b[0m \u001b[0;34m=\u001b[0m \u001b[0mnodes\u001b[0m\u001b[0;34m\u001b[0m\u001b[0;34m\u001b[0m\u001b[0m\n\u001b[1;32m    233\u001b[0m         \u001b[0mself\u001b[0m\u001b[0;34m.\u001b[0m\u001b[0m_nodes_by_depth\u001b[0m \u001b[0;34m=\u001b[0m \u001b[0mnodes_by_depth\u001b[0m\u001b[0;34m\u001b[0m\u001b[0;34m\u001b[0m\u001b[0m\n",
      "\u001b[0;32m~/anaconda3/lib/python3.6/site-packages/keras/engine/network.py\u001b[0m in \u001b[0;36m_map_graph_network\u001b[0;34m(inputs, outputs)\u001b[0m\n\u001b[1;32m   1453\u001b[0m             raise ValueError('The name \"' + name + '\" is used ' +\n\u001b[1;32m   1454\u001b[0m                              \u001b[0mstr\u001b[0m\u001b[0;34m(\u001b[0m\u001b[0mall_names\u001b[0m\u001b[0;34m.\u001b[0m\u001b[0mcount\u001b[0m\u001b[0;34m(\u001b[0m\u001b[0mname\u001b[0m\u001b[0;34m)\u001b[0m\u001b[0;34m)\u001b[0m \u001b[0;34m+\u001b[0m\u001b[0;34m\u001b[0m\u001b[0;34m\u001b[0m\u001b[0m\n\u001b[0;32m-> 1455\u001b[0;31m                              \u001b[0;34m' times in the model. '\u001b[0m\u001b[0;34m\u001b[0m\u001b[0;34m\u001b[0m\u001b[0m\n\u001b[0m\u001b[1;32m   1456\u001b[0m                              'All layer names should be unique.')\n\u001b[1;32m   1457\u001b[0m     \u001b[0;32mreturn\u001b[0m \u001b[0mnetwork_nodes\u001b[0m\u001b[0;34m,\u001b[0m \u001b[0mnodes_by_depth\u001b[0m\u001b[0;34m,\u001b[0m \u001b[0mlayers\u001b[0m\u001b[0;34m,\u001b[0m \u001b[0mlayers_by_depth\u001b[0m\u001b[0;34m\u001b[0m\u001b[0;34m\u001b[0m\u001b[0m\n",
      "\u001b[0;31mValueError\u001b[0m: The name \"hidden_layer1\" is used 2 times in the model. All layer names should be unique."
     ]
    }
   ],
   "source": [
    "model = build_mlp(input_shape=x_train.shape[1:])\n",
    "model.summary()"
   ]
  },
  {
   "cell_type": "code",
   "execution_count": 19,
   "metadata": {},
   "outputs": [],
   "source": [
    "## 超參數設定\n",
    "LEARNING_RATE = 0.001\n",
    "EPOCHS = 100\n",
    "BATCH_SIZE = 256"
   ]
  },
  {
   "cell_type": "code",
   "execution_count": 20,
   "metadata": {},
   "outputs": [],
   "source": [
    "optimizer = keras.optimizers.Adam(lr=LEARNING_RATE)\n",
    "model.compile(loss=\"categorical_crossentropy\", metrics=[\"accuracy\"], optimizer=optimizer)"
   ]
  },
  {
   "cell_type": "code",
   "execution_count": null,
   "metadata": {},
   "outputs": [],
   "source": [
    "model.fit(x_train, y_train, \n",
    "          epochs=EPOCHS, \n",
    "          batch_size=BATCH_SIZE, \n",
    "          validation_data=(x_test, y_test), \n",
    "          shuffle=True)"
   ]
  },
  {
   "cell_type": "code",
   "execution_count": null,
   "metadata": {},
   "outputs": [],
   "source": [
    "import matplotlib.pyplot as plt\n",
    "\n",
    "\n",
    "train_loss = model.history.history[\"loss\"]\n",
    "valid_loss = model.history.history[\"val_loss\"]\n",
    "\n",
    "train_acc = model.history.history[\"acc\"]\n",
    "valid_acc = model.history.history[\"val_acc\"]\n",
    "\n",
    "plt.plot(range(len(train_loss)), train_loss, label=\"train loss\")\n",
    "plt.plot(range(len(valid_loss)), valid_loss, label=\"valid loss\")\n",
    "plt.legend()\n",
    "plt.title(\"Loss\")\n",
    "plt.show()\n",
    "\n",
    "plt.plot(range(len(train_acc)), train_acc, label=\"train accuracy\")\n",
    "plt.plot(range(len(valid_acc)), valid_acc, label=\"valid accuracy\")\n",
    "plt.legend()\n",
    "plt.title(\"Accuracy\")\n",
    "plt.show()"
   ]
  }
 ],
 "metadata": {
  "kernelspec": {
   "display_name": "Python 3",
   "language": "python",
   "name": "python3"
  },
  "language_info": {
   "codemirror_mode": {
    "name": "ipython",
    "version": 3
   },
   "file_extension": ".py",
   "mimetype": "text/x-python",
   "name": "python",
   "nbconvert_exporter": "python",
   "pygments_lexer": "ipython3",
   "version": "3.6.8"
  }
 },
 "nbformat": 4,
 "nbformat_minor": 2
}
