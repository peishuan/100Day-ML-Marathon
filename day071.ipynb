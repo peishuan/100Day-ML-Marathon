{
 "cells": [
  {
   "cell_type": "raw",
   "metadata": {},
   "source": [
    "課程目標\n",
    "利用Keras 的 CIFAR10 dataset 來驗證損失函數對於模型精確度的影響\n",
    "\n",
    "範例重點:\n",
    "模型架構的層數\n",
    "\n",
    "使用何種LOSS function"
   ]
  },
  {
   "cell_type": "code",
   "execution_count": 1,
   "metadata": {},
   "outputs": [
    {
     "name": "stderr",
     "output_type": "stream",
     "text": [
      "Using TensorFlow backend.\n"
     ]
    }
   ],
   "source": [
    "import keras\n",
    "from keras.datasets import cifar10\n",
    "import numpy as np\n",
    "np.random.seed(10)\n",
    "#np.random.seed(10)的作用：使得隨機數據可預測"
   ]
  },
  {
   "cell_type": "code",
   "execution_count": 2,
   "metadata": {},
   "outputs": [],
   "source": [
    "#取得Keras CIFAR10 Dataset, 並分成Training 與 Test set\n",
    "(x_img_train,y_label_train),(x_img_test,y_label_test)=cifar10.load_data()"
   ]
  },
  {
   "cell_type": "code",
   "execution_count": 3,
   "metadata": {},
   "outputs": [
    {
     "name": "stdout",
     "output_type": "stream",
     "text": [
      "train data: images: (50000, 32, 32, 3)  labels: (50000, 1)\n",
      "test  data: images: (10000, 32, 32, 3)  labels: (10000, 1)\n"
     ]
    }
   ],
   "source": [
    "#確認 CIFAR10 Dataset 資料維度\n",
    "print(\"train data:\",'images:',x_img_train.shape,\n",
    "      \" labels:\",y_label_train.shape) \n",
    "print(\"test  data:\",'images:',x_img_test.shape ,\n",
    "      \" labels:\",y_label_test.shape) "
   ]
  },
  {
   "cell_type": "code",
   "execution_count": 4,
   "metadata": {},
   "outputs": [],
   "source": [
    "#資料正規化, 並設定 data array 為浮點數\n",
    "x_img_train_normalize = x_img_train.astype('float32') / 255.0\n",
    "x_img_test_normalize = x_img_test.astype('float32') / 255.0"
   ]
  },
  {
   "cell_type": "code",
   "execution_count": 5,
   "metadata": {},
   "outputs": [
    {
     "data": {
      "text/plain": [
       "(10000, 10)"
      ]
     },
     "execution_count": 5,
     "metadata": {},
     "output_type": "execute_result"
    }
   ],
   "source": [
    "#針對Label 做 ONE HOT ENCODE, 並查看維度資訊\n",
    "from keras.utils import np_utils\n",
    "y_label_train_OneHot = np_utils.to_categorical(y_label_train)\n",
    "y_label_test_OneHot = np_utils.to_categorical(y_label_test)\n",
    "y_label_test_OneHot.shape"
   ]
  },
  {
   "cell_type": "raw",
   "metadata": {},
   "source": [
    "建立模型"
   ]
  },
  {
   "cell_type": "code",
   "execution_count": 6,
   "metadata": {},
   "outputs": [],
   "source": [
    "from keras.models import Sequential\n",
    "from keras.layers import Dense, Dropout, Activation, Flatten\n",
    "from keras.layers import Conv2D, MaxPooling2D, ZeroPadding2D"
   ]
  },
  {
   "cell_type": "code",
   "execution_count": 7,
   "metadata": {},
   "outputs": [],
   "source": [
    "# 宣告採用序列模型\n",
    "model = Sequential()"
   ]
  },
  {
   "cell_type": "code",
   "execution_count": 8,
   "metadata": {},
   "outputs": [
    {
     "name": "stdout",
     "output_type": "stream",
     "text": [
      "WARNING:tensorflow:From /Users/lin_peihsuan/anaconda3/lib/python3.6/site-packages/tensorflow/python/framework/op_def_library.py:263: colocate_with (from tensorflow.python.framework.ops) is deprecated and will be removed in a future version.\n",
      "Instructions for updating:\n",
      "Colocations handled automatically by placer.\n"
     ]
    }
   ],
   "source": [
    "#卷積層1與池化層1\n",
    "model.add(Conv2D(filters=32,kernel_size=(3,3),\n",
    "                 input_shape=(32, 32,3), \n",
    "                 activation='relu', \n",
    "                 padding='same'))\n",
    "model.add(MaxPooling2D(pool_size=(2, 2)))"
   ]
  },
  {
   "cell_type": "code",
   "execution_count": 9,
   "metadata": {},
   "outputs": [],
   "source": [
    "#卷積層2與池化層2\n",
    "model.add(Conv2D(filters=64, kernel_size=(3, 3), \n",
    "                 activation='relu', padding='same'))\n",
    "model.add(MaxPooling2D(pool_size=(2, 2)))"
   ]
  },
  {
   "cell_type": "code",
   "execution_count": 10,
   "metadata": {},
   "outputs": [],
   "source": [
    "#卷積層3與池化層3\n",
    "model.add(Conv2D(filters=128, kernel_size=(3, 3), \n",
    "                 activation='relu', padding='same'))\n",
    "model.add(MaxPooling2D(pool_size=(2, 2)))"
   ]
  },
  {
   "cell_type": "code",
   "execution_count": 11,
   "metadata": {},
   "outputs": [],
   "source": [
    "#卷積層4與池化層4\n",
    "model.add(Conv2D(filters=256, kernel_size=(3, 3), \n",
    "                 activation='relu', padding='same'))\n",
    "model.add(MaxPooling2D(pool_size=(2, 2)))"
   ]
  },
  {
   "cell_type": "code",
   "execution_count": 12,
   "metadata": {},
   "outputs": [],
   "source": [
    "#建立神經網路(平坦層、隱藏層、輸出層)\n",
    "model.add(Flatten())"
   ]
  },
  {
   "cell_type": "code",
   "execution_count": 13,
   "metadata": {},
   "outputs": [],
   "source": [
    "#建立全網路連接層\n",
    "model.add(Dense(512, activation='relu'))\n",
    "model.add(Dense(512, activation='relu'))"
   ]
  },
  {
   "cell_type": "code",
   "execution_count": 14,
   "metadata": {},
   "outputs": [],
   "source": [
    "#建立輸出層\n",
    "model.add(Dense(10, activation='softmax'))"
   ]
  },
  {
   "cell_type": "code",
   "execution_count": 15,
   "metadata": {},
   "outputs": [
    {
     "name": "stdout",
     "output_type": "stream",
     "text": [
      "_________________________________________________________________\n",
      "Layer (type)                 Output Shape              Param #   \n",
      "=================================================================\n",
      "conv2d_1 (Conv2D)            (None, 32, 32, 32)        896       \n",
      "_________________________________________________________________\n",
      "max_pooling2d_1 (MaxPooling2 (None, 16, 16, 32)        0         \n",
      "_________________________________________________________________\n",
      "conv2d_2 (Conv2D)            (None, 16, 16, 64)        18496     \n",
      "_________________________________________________________________\n",
      "max_pooling2d_2 (MaxPooling2 (None, 8, 8, 64)          0         \n",
      "_________________________________________________________________\n",
      "conv2d_3 (Conv2D)            (None, 8, 8, 128)         73856     \n",
      "_________________________________________________________________\n",
      "max_pooling2d_3 (MaxPooling2 (None, 4, 4, 128)         0         \n",
      "_________________________________________________________________\n",
      "conv2d_4 (Conv2D)            (None, 4, 4, 256)         295168    \n",
      "_________________________________________________________________\n",
      "max_pooling2d_4 (MaxPooling2 (None, 2, 2, 256)         0         \n",
      "_________________________________________________________________\n",
      "flatten_1 (Flatten)          (None, 1024)              0         \n",
      "_________________________________________________________________\n",
      "dense_1 (Dense)              (None, 512)               524800    \n",
      "_________________________________________________________________\n",
      "dense_2 (Dense)              (None, 512)               262656    \n",
      "_________________________________________________________________\n",
      "dense_3 (Dense)              (None, 10)                5130      \n",
      "=================================================================\n",
      "Total params: 1,181,002\n",
      "Trainable params: 1,181,002\n",
      "Non-trainable params: 0\n",
      "_________________________________________________________________\n",
      "None\n"
     ]
    }
   ],
   "source": [
    "#檢查model 的STACK\n",
    "print(model.summary())"
   ]
  },
  {
   "cell_type": "code",
   "execution_count": 16,
   "metadata": {},
   "outputs": [
    {
     "name": "stdout",
     "output_type": "stream",
     "text": [
      "載入模型失敗!開始訓練一個新模型\n"
     ]
    }
   ],
   "source": [
    "#載入之前訓練的模型\n",
    "try:\n",
    "    model.load_weights(\"SaveModel/cifarCnnModel.h5\")\n",
    "    print(\"載入模型成功!繼續訓練模型\")\n",
    "except :    \n",
    "    print(\"載入模型失敗!開始訓練一個新模型\")"
   ]
  },
  {
   "cell_type": "code",
   "execution_count": 17,
   "metadata": {},
   "outputs": [],
   "source": [
    "#模型編譯\n",
    "model.compile(loss='categorical_crossentropy', optimizer='Adam', metrics=['accuracy'])"
   ]
  },
  {
   "cell_type": "code",
   "execution_count": 18,
   "metadata": {},
   "outputs": [
    {
     "name": "stdout",
     "output_type": "stream",
     "text": [
      "WARNING:tensorflow:From /Users/lin_peihsuan/anaconda3/lib/python3.6/site-packages/tensorflow/python/ops/math_ops.py:3066: to_int32 (from tensorflow.python.ops.math_ops) is deprecated and will be removed in a future version.\n",
      "Instructions for updating:\n",
      "Use tf.cast instead.\n",
      "Train on 37500 samples, validate on 12500 samples\n",
      "Epoch 1/12\n",
      "37500/37500 [==============================] - 132s 4ms/step - loss: 1.6518 - acc: 0.3864 - val_loss: 1.3460 - val_acc: 0.5065\n",
      "Epoch 2/12\n",
      "37500/37500 [==============================] - 121s 3ms/step - loss: 1.2258 - acc: 0.5542 - val_loss: 1.1062 - val_acc: 0.6050\n",
      "Epoch 3/12\n",
      "37500/37500 [==============================] - 112s 3ms/step - loss: 1.0051 - acc: 0.6370 - val_loss: 0.9932 - val_acc: 0.6540\n",
      "Epoch 4/12\n",
      "37500/37500 [==============================] - 113s 3ms/step - loss: 0.8608 - acc: 0.6944 - val_loss: 0.8781 - val_acc: 0.6942\n",
      "Epoch 5/12\n",
      "37500/37500 [==============================] - 127s 3ms/step - loss: 0.7464 - acc: 0.7350 - val_loss: 0.8881 - val_acc: 0.6962\n",
      "Epoch 6/12\n",
      "37500/37500 [==============================] - 128s 3ms/step - loss: 0.6463 - acc: 0.7729 - val_loss: 0.8527 - val_acc: 0.7114\n",
      "Epoch 7/12\n",
      "37500/37500 [==============================] - 128s 3ms/step - loss: 0.5539 - acc: 0.8037 - val_loss: 0.8620 - val_acc: 0.7074\n",
      "Epoch 8/12\n",
      "37500/37500 [==============================] - 127s 3ms/step - loss: 0.4734 - acc: 0.8302 - val_loss: 0.8683 - val_acc: 0.7250\n",
      "Epoch 9/12\n",
      "37500/37500 [==============================] - 128s 3ms/step - loss: 0.3960 - acc: 0.8594 - val_loss: 0.8646 - val_acc: 0.7286\n",
      "Epoch 10/12\n",
      "37500/37500 [==============================] - 127s 3ms/step - loss: 0.3227 - acc: 0.8855 - val_loss: 1.0150 - val_acc: 0.7087\n",
      "Epoch 11/12\n",
      "37500/37500 [==============================] - 128s 3ms/step - loss: 0.2681 - acc: 0.9047 - val_loss: 1.0190 - val_acc: 0.7303\n",
      "Epoch 12/12\n",
      "37500/37500 [==============================] - 116s 3ms/step - loss: 0.2301 - acc: 0.9172 - val_loss: 1.1247 - val_acc: 0.7166\n"
     ]
    }
   ],
   "source": [
    "#模型訓練, \"Train_History\" 把訓練過程所得到的數值存起來\n",
    "train_history=model.fit(x_img_train_normalize, y_label_train_OneHot,\n",
    "                        validation_split=0.25,\n",
    "                        epochs=12, batch_size=128, verbose=1)         \n",
    "\n",
    "#[validation_split = 0.2] validation_split：在0和1之間浮動。用作驗證數據的訓練數據的分數。\n",
    "#該模型將訓練數據的這一部分分開，不會對其進行訓練，並將在每個時期結束時評估該數據的損失和任何模型指標。\n",
    "#[batch_size]：整數或None。每個梯度更新的樣本數。指定，batch_size為128"
   ]
  },
  {
   "cell_type": "code",
   "execution_count": 19,
   "metadata": {},
   "outputs": [],
   "source": [
    "import matplotlib.pyplot as plt\n",
    "%matplotlib inline\n",
    "\n",
    "#定義一個繪圖函數\n",
    "def show_train_history(train_acc,test_acc):\n",
    "    plt.plot(train_history.history[train_acc])\n",
    "    plt.plot(train_history.history[test_acc])\n",
    "    plt.title('Train History')\n",
    "    plt.ylabel('Accuracy')\n",
    "    plt.xlabel('Epoch')\n",
    "    plt.legend(['train_acc', 'val_acc'], loc='upper left')\n",
    "    plt.show()"
   ]
  },
  {
   "cell_type": "code",
   "execution_count": 20,
   "metadata": {},
   "outputs": [
    {
     "data": {
      "image/png": "[encoded data removed]",
      "text/plain": [
       "<Figure size 432x288 with 1 Axes>"
      ]
     },
     "metadata": {
      "needs_background": "light"
     },
     "output_type": "display_data"
    }
   ],
   "source": [
    "show_train_history('acc','val_acc')"
   ]
  },
  {
   "cell_type": "raw",
   "metadata": {},
   "source": [
    "#MSE"
   ]
  },
  {
   "cell_type": "code",
   "execution_count": 21,
   "metadata": {},
   "outputs": [],
   "source": [
    "model.compile(loss='MSE', optimizer='sgd', metrics=['accuracy'])"
   ]
  },
  {
   "cell_type": "code",
   "execution_count": 22,
   "metadata": {},
   "outputs": [
    {
     "name": "stdout",
     "output_type": "stream",
     "text": [
      "Train on 37500 samples, validate on 12500 samples\n",
      "Epoch 1/12\n",
      "37500/37500 [==============================] - 149s 4ms/step - loss: 0.0065 - acc: 0.9585 - val_loss: 0.0405 - val_acc: 0.7372\n",
      "Epoch 2/12\n",
      "37500/37500 [==============================] - 140s 4ms/step - loss: 0.0055 - acc: 0.9658 - val_loss: 0.0403 - val_acc: 0.7377\n",
      "Epoch 3/12\n",
      "37500/37500 [==============================] - 107s 3ms/step - loss: 0.0051 - acc: 0.9699 - val_loss: 0.0401 - val_acc: 0.7406\n",
      "Epoch 4/12\n",
      "37500/37500 [==============================] - 106s 3ms/step - loss: 0.0048 - acc: 0.9717 - val_loss: 0.0399 - val_acc: 0.7400\n",
      "Epoch 5/12\n",
      "37500/37500 [==============================] - 116s 3ms/step - loss: 0.0045 - acc: 0.9731 - val_loss: 0.0398 - val_acc: 0.7430\n",
      "Epoch 6/12\n",
      "37500/37500 [==============================] - 111s 3ms/step - loss: 0.0043 - acc: 0.9746 - val_loss: 0.0399 - val_acc: 0.7405\n",
      "Epoch 7/12\n",
      "37500/37500 [==============================] - 111s 3ms/step - loss: 0.0041 - acc: 0.9757 - val_loss: 0.0397 - val_acc: 0.7435\n",
      "Epoch 8/12\n",
      "37500/37500 [==============================] - 107s 3ms/step - loss: 0.0040 - acc: 0.9765 - val_loss: 0.0397 - val_acc: 0.7446\n",
      "Epoch 9/12\n",
      "37500/37500 [==============================] - 107s 3ms/step - loss: 0.0039 - acc: 0.9780 - val_loss: 0.0396 - val_acc: 0.7446\n",
      "Epoch 10/12\n",
      "37500/37500 [==============================] - 130s 3ms/step - loss: 0.0037 - acc: 0.9789 - val_loss: 0.0396 - val_acc: 0.7442\n",
      "Epoch 11/12\n",
      "37500/37500 [==============================] - 115s 3ms/step - loss: 0.0036 - acc: 0.9795 - val_loss: 0.0397 - val_acc: 0.7465\n",
      "Epoch 12/12\n",
      "37500/37500 [==============================] - 107s 3ms/step - loss: 0.0035 - acc: 0.9802 - val_loss: 0.0396 - val_acc: 0.7450\n"
     ]
    }
   ],
   "source": [
    "#模型訓練, \"Train_History\" 把訓練過程所得到的數值存起來\n",
    "train_history=model.fit(x_img_train_normalize, y_label_train_OneHot,\n",
    "                        validation_split=0.25,\n",
    "                        epochs=12, batch_size=128, verbose=1)         \n",
    "\n",
    "#[validation_split = 0.2] validation_split：在0和1之間浮動。用作驗證數據的訓練數據的分數。\n",
    "#該模型將訓練數據的這一部分分開，不會對其進行訓練，並將在每個時期結束時評估該數據的損失和任何模型指標。\n",
    "#[batch_size]：整數或None。每個梯度更新的樣本數。指定，batch_size為128"
   ]
  },
  {
   "cell_type": "code",
   "execution_count": 23,
   "metadata": {},
   "outputs": [
    {
     "data": {
      "image/png": "[encoded data removed]",
      "text/plain": [
       "<Figure size 432x288 with 1 Axes>"
      ]
     },
     "metadata": {
      "needs_background": "light"
     },
     "output_type": "display_data"
    }
   ],
   "source": [
    "show_train_history('acc','val_acc')"
   ]
  },
  {
   "cell_type": "raw",
   "metadata": {},
   "source": [
    "#binary _crossentropy"
   ]
  },
  {
   "cell_type": "code",
   "execution_count": 25,
   "metadata": {},
   "outputs": [],
   "source": [
    "model.compile(loss='binary_crossentropy', optimizer='sgd', metrics=['accuracy'])"
   ]
  },
  {
   "cell_type": "code",
   "execution_count": 26,
   "metadata": {},
   "outputs": [
    {
     "name": "stdout",
     "output_type": "stream",
     "text": [
      "Train on 37500 samples, validate on 12500 samples\n",
      "Epoch 1/12\n",
      "37500/37500 [==============================] - 105s 3ms/step - loss: 0.0144 - acc: 0.9958 - val_loss: 0.1766 - val_acc: 0.9506\n",
      "Epoch 2/12\n",
      "37500/37500 [==============================] - 112s 3ms/step - loss: 0.0134 - acc: 0.9960 - val_loss: 0.1809 - val_acc: 0.9509\n",
      "Epoch 3/12\n",
      "37500/37500 [==============================] - 110s 3ms/step - loss: 0.0124 - acc: 0.9963 - val_loss: 0.1851 - val_acc: 0.9506\n",
      "Epoch 4/12\n",
      "37500/37500 [==============================] - 119s 3ms/step - loss: 0.0119 - acc: 0.9966 - val_loss: 0.1865 - val_acc: 0.9515\n",
      "Epoch 5/12\n",
      "37500/37500 [==============================] - 125s 3ms/step - loss: 0.0114 - acc: 0.9968 - val_loss: 0.1883 - val_acc: 0.9511\n",
      "Epoch 6/12\n",
      "37500/37500 [==============================] - 125s 3ms/step - loss: 0.0107 - acc: 0.9969 - val_loss: 0.1914 - val_acc: 0.9513\n",
      "Epoch 7/12\n",
      "37500/37500 [==============================] - 110s 3ms/step - loss: 0.0103 - acc: 0.9970 - val_loss: 0.1937 - val_acc: 0.9507\n",
      "Epoch 8/12\n",
      "37500/37500 [==============================] - 104s 3ms/step - loss: 0.0098 - acc: 0.9973 - val_loss: 0.1960 - val_acc: 0.9513\n",
      "Epoch 9/12\n",
      "37500/37500 [==============================] - 111s 3ms/step - loss: 0.0094 - acc: 0.9973 - val_loss: 0.2004 - val_acc: 0.9508\n",
      "Epoch 10/12\n",
      "37500/37500 [==============================] - 133s 4ms/step - loss: 0.0091 - acc: 0.9975 - val_loss: 0.1993 - val_acc: 0.9514\n",
      "Epoch 11/12\n",
      "37500/37500 [==============================] - 121s 3ms/step - loss: 0.0088 - acc: 0.9975 - val_loss: 0.2022 - val_acc: 0.9515\n",
      "Epoch 12/12\n",
      "37500/37500 [==============================] - 137s 4ms/step - loss: 0.0084 - acc: 0.9976 - val_loss: 0.2044 - val_acc: 0.9512\n"
     ]
    }
   ],
   "source": [
    "#模型訓練, \"Train_History\" 把訓練過程所得到的數值存起來\n",
    "train_history=model.fit(x_img_train_normalize, y_label_train_OneHot,\n",
    "                        validation_split=0.25,\n",
    "                        epochs=12, batch_size=128, verbose=1)         \n",
    "\n",
    "#[validation_split = 0.2] validation_split：在0和1之間浮動。用作驗證數據的訓練數據的分數。\n",
    "#該模型將訓練數據的這一部分分開，不會對其進行訓練，並將在每個時期結束時評估該數據的損失和任何模型指標。\n",
    "#[batch_size]：整數或None。每個梯度更新的樣本數。指定，batch_size為128"
   ]
  },
  {
   "cell_type": "code",
   "execution_count": 27,
   "metadata": {},
   "outputs": [
    {
     "data": {
      "image/png": "[encoded data removed]",
      "text/plain": [
       "<Figure size 432x288 with 1 Axes>"
      ]
     },
     "metadata": {
      "needs_background": "light"
     },
     "output_type": "display_data"
    }
   ],
   "source": [
    "show_train_history('acc','val_acc')"
   ]
  },
  {
   "cell_type": "code",
   "execution_count": null,
   "metadata": {},
   "outputs": [],
   "source": []
  }
 ],
 "metadata": {
  "kernelspec": {
   "display_name": "Python 3",
   "language": "python",
   "name": "python3"
  },
  "language_info": {
   "codemirror_mode": {
    "name": "ipython",
    "version": 3
   },
   "file_extension": ".py",
   "mimetype": "text/x-python",
   "name": "python",
   "nbconvert_exporter": "python",
   "pygments_lexer": "ipython3",
   "version": "3.6.8"
  }
 },
 "nbformat": 4,
 "nbformat_minor": 2
}
