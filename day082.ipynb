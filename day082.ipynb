{
 "cells": [
  {
   "cell_type": "raw",
   "metadata": {},
   "source": [
    "範例重點\n",
    "知道如何在 keras 中加入 dropout\n",
    "了解 dropout 中 ratio 的意義與對訓練的影響"
   ]
  },
  {
   "cell_type": "code",
   "execution_count": 1,
   "metadata": {},
   "outputs": [
    {
     "name": "stderr",
     "output_type": "stream",
     "text": [
      "Using TensorFlow backend.\n"
     ]
    }
   ],
   "source": [
    "import os\n",
    "import keras\n",
    "\n",
    "# 本範例不需使用 GPU, 將 GPU 設定為 \"無\"\n",
    "os.environ[\"CUDA_VISIBLE_DEVICES\"] = \"\""
   ]
  },
  {
   "cell_type": "code",
   "execution_count": 2,
   "metadata": {},
   "outputs": [],
   "source": [
    "train, test = keras.datasets.cifar10.load_data()"
   ]
  },
  {
   "cell_type": "code",
   "execution_count": 3,
   "metadata": {},
   "outputs": [],
   "source": [
    "## 資料前處理\n",
    "def preproc_x(x, flatten=True):\n",
    "    x = x / 255.\n",
    "    if flatten:\n",
    "        x = x.reshape((len(x), -1))\n",
    "    return x\n",
    "\n",
    "def preproc_y(y, num_classes=10):\n",
    "    if y.shape[-1] == 1:\n",
    "        y = keras.utils.to_categorical(y, num_classes)\n",
    "    return y    "
   ]
  },
  {
   "cell_type": "code",
   "execution_count": 4,
   "metadata": {},
   "outputs": [],
   "source": [
    "x_train, y_train = train\n",
    "x_test, y_test = test\n",
    "\n",
    "# 資料前處理 - X 標準化\n",
    "x_train = preproc_x(x_train)\n",
    "x_test = preproc_x(x_test)\n",
    "\n",
    "# 資料前處理 -Y 轉成 onehot\n",
    "y_train = preproc_y(y_train)\n",
    "y_test = preproc_y(y_test)"
   ]
  },
  {
   "cell_type": "code",
   "execution_count": 5,
   "metadata": {},
   "outputs": [],
   "source": [
    "from keras.layers import Dropout\n",
    "\n",
    "\"\"\"\n",
    "建立神經網路，並加入 dropout layer\n",
    "\"\"\"\n",
    "def build_mlp(input_shape, output_units=10, num_neurons=[512, 256, 128], drp_ratio=0.2):\n",
    "    input_layer = keras.layers.Input(input_shape)\n",
    "    \n",
    "    for i, n_units in enumerate(num_neurons):\n",
    "        if i == 0:\n",
    "            x = keras.layers.Dense(units=n_units, \n",
    "                                   activation=\"relu\", \n",
    "                                   name=\"hidden_layer\"+str(i+1))(input_layer)\n",
    "            x = Dropout(drp_ratio)(x)\n",
    "        else:\n",
    "            x = keras.layers.Dense(units=n_units, \n",
    "                                   activation=\"relu\", \n",
    "                                   name=\"hidden_layer\"+str(i+1))(x)\n",
    "            x = Dropout(drp_ratio)(x)\n",
    "    \n",
    "    out = keras.layers.Dense(units=output_units, activation=\"softmax\", name=\"output\")(x)\n",
    "    \n",
    "    model = keras.models.Model(inputs=[input_layer], outputs=[out])\n",
    "    return model"
   ]
  },
  {
   "cell_type": "code",
   "execution_count": 6,
   "metadata": {},
   "outputs": [],
   "source": [
    "## 超參數設定\n",
    "LEARNING_RATE = 1e-3\n",
    "EPOCHS = 50\n",
    "BATCH_SIZE = 256\n",
    "MOMENTUM = 0.95\n",
    "Dropout_EXP = 0.25"
   ]
  },
  {
   "cell_type": "code",
   "execution_count": 7,
   "metadata": {},
   "outputs": [
    {
     "name": "stdout",
     "output_type": "stream",
     "text": [
      "WARNING:tensorflow:From /Users/lin_peihsuan/anaconda3/lib/python3.6/site-packages/tensorflow/python/framework/op_def_library.py:263: colocate_with (from tensorflow.python.framework.ops) is deprecated and will be removed in a future version.\n",
      "Instructions for updating:\n",
      "Colocations handled automatically by placer.\n",
      "WARNING:tensorflow:From /Users/lin_peihsuan/anaconda3/lib/python3.6/site-packages/keras/backend/tensorflow_backend.py:3445: calling dropout (from tensorflow.python.ops.nn_ops) with keep_prob is deprecated and will be removed in a future version.\n",
      "Instructions for updating:\n",
      "Please use `rate` instead of `keep_prob`. Rate should be set to `rate = 1 - keep_prob`.\n",
      "_________________________________________________________________\n",
      "Layer (type)                 Output Shape              Param #   \n",
      "=================================================================\n",
      "input_1 (InputLayer)         (None, 3072)              0         \n",
      "_________________________________________________________________\n",
      "hidden_layer1 (Dense)        (None, 512)               1573376   \n",
      "_________________________________________________________________\n",
      "dropout_1 (Dropout)          (None, 512)               0         \n",
      "_________________________________________________________________\n",
      "hidden_layer2 (Dense)        (None, 256)               131328    \n",
      "_________________________________________________________________\n",
      "dropout_2 (Dropout)          (None, 256)               0         \n",
      "_________________________________________________________________\n",
      "hidden_layer3 (Dense)        (None, 128)               32896     \n",
      "_________________________________________________________________\n",
      "dropout_3 (Dropout)          (None, 128)               0         \n",
      "_________________________________________________________________\n",
      "output (Dense)               (None, 10)                1290      \n",
      "=================================================================\n",
      "Total params: 1,738,890\n",
      "Trainable params: 1,738,890\n",
      "Non-trainable params: 0\n",
      "_________________________________________________________________\n",
      "WARNING:tensorflow:From /Users/lin_peihsuan/anaconda3/lib/python3.6/site-packages/tensorflow/python/ops/math_ops.py:3066: to_int32 (from tensorflow.python.ops.math_ops) is deprecated and will be removed in a future version.\n",
      "Instructions for updating:\n",
      "Use tf.cast instead.\n",
      "Train on 50000 samples, validate on 10000 samples\n",
      "Epoch 1/50\n",
      "50000/50000 [==============================] - 15s 304us/step - loss: 2.1933 - acc: 0.1861 - val_loss: 1.9884 - val_acc: 0.3046\n",
      "Epoch 2/50\n",
      "50000/50000 [==============================] - 12s 235us/step - loss: 1.9937 - acc: 0.2677 - val_loss: 1.8723 - val_acc: 0.3421\n",
      "Epoch 3/50\n",
      "50000/50000 [==============================] - 13s 260us/step - loss: 1.9061 - acc: 0.3075 - val_loss: 1.8013 - val_acc: 0.3689\n",
      "Epoch 4/50\n",
      "50000/50000 [==============================] - 14s 273us/step - loss: 1.8502 - acc: 0.3329 - val_loss: 1.7505 - val_acc: 0.3852\n",
      "Epoch 5/50\n",
      "50000/50000 [==============================] - 13s 253us/step - loss: 1.8098 - acc: 0.3484 - val_loss: 1.7079 - val_acc: 0.3955\n",
      "Epoch 6/50\n",
      "50000/50000 [==============================] - 12s 234us/step - loss: 1.7753 - acc: 0.3615 - val_loss: 1.6713 - val_acc: 0.4116\n",
      "Epoch 7/50\n",
      "50000/50000 [==============================] - 12s 243us/step - loss: 1.7462 - acc: 0.3739 - val_loss: 1.6460 - val_acc: 0.4208\n",
      "Epoch 8/50\n",
      "50000/50000 [==============================] - 11s 212us/step - loss: 1.7209 - acc: 0.3861 - val_loss: 1.6174 - val_acc: 0.4302\n",
      "Epoch 9/50\n",
      "50000/50000 [==============================] - 12s 239us/step - loss: 1.7019 - acc: 0.3903 - val_loss: 1.5970 - val_acc: 0.4366\n",
      "Epoch 10/50\n",
      "50000/50000 [==============================] - 18s 369us/step - loss: 1.6770 - acc: 0.4019 - val_loss: 1.5834 - val_acc: 0.4409\n",
      "Epoch 11/50\n",
      "50000/50000 [==============================] - 23s 453us/step - loss: 1.6567 - acc: 0.4095 - val_loss: 1.5617 - val_acc: 0.4497\n",
      "Epoch 12/50\n",
      "50000/50000 [==============================] - 18s 366us/step - loss: 1.6411 - acc: 0.4145 - val_loss: 1.5507 - val_acc: 0.4503\n",
      "Epoch 13/50\n",
      "50000/50000 [==============================] - 13s 262us/step - loss: 1.6213 - acc: 0.4208 - val_loss: 1.5274 - val_acc: 0.4605\n",
      "Epoch 14/50\n",
      "50000/50000 [==============================] - 12s 231us/step - loss: 1.6074 - acc: 0.4295 - val_loss: 1.5162 - val_acc: 0.4614\n",
      "Epoch 15/50\n",
      "50000/50000 [==============================] - 12s 243us/step - loss: 1.5917 - acc: 0.4317 - val_loss: 1.5080 - val_acc: 0.4657\n",
      "Epoch 16/50\n",
      "50000/50000 [==============================] - 12s 246us/step - loss: 1.5823 - acc: 0.4343 - val_loss: 1.4978 - val_acc: 0.4714\n",
      "Epoch 17/50\n",
      "50000/50000 [==============================] - 12s 236us/step - loss: 1.5658 - acc: 0.4434 - val_loss: 1.4889 - val_acc: 0.4747\n",
      "Epoch 18/50\n",
      "50000/50000 [==============================] - 12s 241us/step - loss: 1.5519 - acc: 0.4469 - val_loss: 1.4734 - val_acc: 0.4751\n",
      "Epoch 19/50\n",
      "50000/50000 [==============================] - 13s 250us/step - loss: 1.5411 - acc: 0.4475 - val_loss: 1.4680 - val_acc: 0.4813\n",
      "Epoch 20/50\n",
      "50000/50000 [==============================] - 11s 229us/step - loss: 1.5294 - acc: 0.4531 - val_loss: 1.4650 - val_acc: 0.4765\n",
      "Epoch 21/50\n",
      "50000/50000 [==============================] - 12s 245us/step - loss: 1.5175 - acc: 0.4602 - val_loss: 1.4477 - val_acc: 0.4883\n",
      "Epoch 22/50\n",
      "50000/50000 [==============================] - 12s 232us/step - loss: 1.5084 - acc: 0.4647 - val_loss: 1.4406 - val_acc: 0.4866\n",
      "Epoch 23/50\n",
      "50000/50000 [==============================] - 12s 231us/step - loss: 1.4968 - acc: 0.4678 - val_loss: 1.4305 - val_acc: 0.4918\n",
      "Epoch 24/50\n",
      "50000/50000 [==============================] - 11s 222us/step - loss: 1.4844 - acc: 0.4719 - val_loss: 1.4254 - val_acc: 0.4910\n",
      "Epoch 25/50\n",
      "50000/50000 [==============================] - 12s 237us/step - loss: 1.4750 - acc: 0.4749 - val_loss: 1.4244 - val_acc: 0.4936\n",
      "Epoch 26/50\n",
      "50000/50000 [==============================] - 11s 222us/step - loss: 1.4656 - acc: 0.4782 - val_loss: 1.4088 - val_acc: 0.4981\n",
      "Epoch 27/50\n",
      "50000/50000 [==============================] - 14s 273us/step - loss: 1.4568 - acc: 0.4803 - val_loss: 1.3980 - val_acc: 0.5032\n",
      "Epoch 28/50\n",
      "50000/50000 [==============================] - 12s 244us/step - loss: 1.4482 - acc: 0.4840 - val_loss: 1.3926 - val_acc: 0.5083\n",
      "Epoch 29/50\n",
      "50000/50000 [==============================] - 12s 246us/step - loss: 1.4355 - acc: 0.4877 - val_loss: 1.3978 - val_acc: 0.5034\n",
      "Epoch 30/50\n",
      "50000/50000 [==============================] - 12s 242us/step - loss: 1.4295 - acc: 0.4900 - val_loss: 1.3858 - val_acc: 0.5071\n",
      "Epoch 31/50\n",
      "50000/50000 [==============================] - 16s 316us/step - loss: 1.4231 - acc: 0.4916 - val_loss: 1.3825 - val_acc: 0.5087\n",
      "Epoch 32/50\n",
      "50000/50000 [==============================] - 17s 330us/step - loss: 1.4181 - acc: 0.4928 - val_loss: 1.3678 - val_acc: 0.5134\n",
      "Epoch 33/50\n",
      "50000/50000 [==============================] - 19s 375us/step - loss: 1.4067 - acc: 0.4974 - val_loss: 1.3681 - val_acc: 0.5122\n",
      "Epoch 34/50\n",
      "50000/50000 [==============================] - 14s 286us/step - loss: 1.3978 - acc: 0.5026 - val_loss: 1.3583 - val_acc: 0.5178\n",
      "Epoch 35/50\n",
      "50000/50000 [==============================] - 20s 392us/step - loss: 1.3892 - acc: 0.5048 - val_loss: 1.3564 - val_acc: 0.5172\n",
      "Epoch 36/50\n",
      "50000/50000 [==============================] - 14s 287us/step - loss: 1.3846 - acc: 0.5049 - val_loss: 1.3547 - val_acc: 0.5190\n",
      "Epoch 37/50\n",
      "50000/50000 [==============================] - 14s 278us/step - loss: 1.3777 - acc: 0.5058 - val_loss: 1.3606 - val_acc: 0.5090\n",
      "Epoch 38/50\n",
      "50000/50000 [==============================] - 14s 279us/step - loss: 1.3659 - acc: 0.5119 - val_loss: 1.3451 - val_acc: 0.5197\n",
      "Epoch 39/50\n",
      "50000/50000 [==============================] - 14s 271us/step - loss: 1.3575 - acc: 0.5128 - val_loss: 1.3424 - val_acc: 0.5215\n",
      "Epoch 40/50\n",
      "50000/50000 [==============================] - 14s 285us/step - loss: 1.3559 - acc: 0.5167 - val_loss: 1.3483 - val_acc: 0.5153\n",
      "Epoch 41/50\n",
      "50000/50000 [==============================] - 13s 267us/step - loss: 1.3482 - acc: 0.5172 - val_loss: 1.3354 - val_acc: 0.5224\n",
      "Epoch 42/50\n"
     ]
    },
    {
     "name": "stdout",
     "output_type": "stream",
     "text": [
      "50000/50000 [==============================] - 12s 248us/step - loss: 1.3368 - acc: 0.5243 - val_loss: 1.3404 - val_acc: 0.5208\n",
      "Epoch 43/50\n",
      "50000/50000 [==============================] - 12s 235us/step - loss: 1.3329 - acc: 0.5238 - val_loss: 1.3355 - val_acc: 0.5207\n",
      "Epoch 44/50\n",
      "50000/50000 [==============================] - 12s 244us/step - loss: 1.3222 - acc: 0.5282 - val_loss: 1.3245 - val_acc: 0.5277\n",
      "Epoch 45/50\n",
      "50000/50000 [==============================] - 12s 238us/step - loss: 1.3195 - acc: 0.5293 - val_loss: 1.3217 - val_acc: 0.5275\n",
      "Epoch 46/50\n",
      "50000/50000 [==============================] - 12s 243us/step - loss: 1.3133 - acc: 0.5290 - val_loss: 1.3211 - val_acc: 0.5300\n",
      "Epoch 47/50\n",
      "50000/50000 [==============================] - 13s 259us/step - loss: 1.3038 - acc: 0.5327 - val_loss: 1.3152 - val_acc: 0.5295\n",
      "Epoch 48/50\n",
      "50000/50000 [==============================] - 13s 253us/step - loss: 1.3016 - acc: 0.5361 - val_loss: 1.3084 - val_acc: 0.5339\n",
      "Epoch 49/50\n",
      "50000/50000 [==============================] - 14s 275us/step - loss: 1.2931 - acc: 0.5387 - val_loss: 1.3126 - val_acc: 0.5307\n",
      "Epoch 50/50\n",
      "50000/50000 [==============================] - 16s 328us/step - loss: 1.2876 - acc: 0.5435 - val_loss: 1.3126 - val_acc: 0.5338\n"
     ]
    }
   ],
   "source": [
    "model = build_mlp(input_shape=x_train.shape[1:], drp_ratio=Dropout_EXP)\n",
    "model.summary()\n",
    "optimizer = keras.optimizers.SGD(lr=LEARNING_RATE, nesterov=True, momentum=MOMENTUM)\n",
    "model.compile(loss=\"categorical_crossentropy\", metrics=[\"accuracy\"], optimizer=optimizer)\n",
    "\n",
    "model.fit(x_train, y_train, \n",
    "          epochs=EPOCHS, \n",
    "          batch_size=BATCH_SIZE, \n",
    "          validation_data=(x_test, y_test), \n",
    "          shuffle=True)\n",
    "\n",
    "# Collect results\n",
    "train_loss = model.history.history[\"loss\"]\n",
    "valid_loss = model.history.history[\"val_loss\"]\n",
    "train_acc = model.history.history[\"acc\"]\n",
    "valid_acc = model.history.history[\"val_acc\"]"
   ]
  },
  {
   "cell_type": "code",
   "execution_count": 8,
   "metadata": {},
   "outputs": [
    {
     "data": {
      "image/png": "[encoded data removed]",
      "text/plain": [
       "<Figure size 432x288 with 1 Axes>"
      ]
     },
     "metadata": {
      "needs_background": "light"
     },
     "output_type": "display_data"
    },
    {
     "data": {
      "image/png": "[encoded data removed]",
      "text/plain": [
       "<Figure size 432x288 with 1 Axes>"
      ]
     },
     "metadata": {
      "needs_background": "light"
     },
     "output_type": "display_data"
    }
   ],
   "source": [
    "import matplotlib.pyplot as plt\n",
    "%matplotlib inline\n",
    "\n",
    "plt.plot(range(len(train_loss)), train_loss, label=\"train loss\")\n",
    "plt.plot(range(len(valid_loss)), valid_loss, label=\"valid loss\")\n",
    "plt.legend()\n",
    "plt.title(\"Loss\")\n",
    "plt.show()\n",
    "\n",
    "plt.plot(range(len(train_acc)), train_acc, label=\"train accuracy\")\n",
    "plt.plot(range(len(valid_acc)), valid_acc, label=\"valid accuracy\")\n",
    "plt.legend()\n",
    "plt.title(\"Accuracy\")\n",
    "plt.show()"
   ]
  },
  {
   "cell_type": "raw",
   "metadata": {},
   "source": [
    "Work\n",
    "請比較使用不同層數以及不同 Dropout rate 對訓練的效果\n",
    "將 optimizer 改成使用 Adam 並加上適當的 dropout rate 檢視結果"
   ]
  },
  {
   "cell_type": "code",
   "execution_count": 9,
   "metadata": {},
   "outputs": [],
   "source": [
    "## 超參數設定\n",
    "LEARNING_RATE = 1e-3\n",
    "EPOCHS = 50\n",
    "BATCH_SIZE = 256\n",
    "MOMENTUM = 0.95\n",
    "Dropout_EXP = 0.5"
   ]
  },
  {
   "cell_type": "code",
   "execution_count": 10,
   "metadata": {},
   "outputs": [
    {
     "name": "stdout",
     "output_type": "stream",
     "text": [
      "_________________________________________________________________\n",
      "Layer (type)                 Output Shape              Param #   \n",
      "=================================================================\n",
      "input_2 (InputLayer)         (None, 3072)              0         \n",
      "_________________________________________________________________\n",
      "hidden_layer1 (Dense)        (None, 512)               1573376   \n",
      "_________________________________________________________________\n",
      "dropout_4 (Dropout)          (None, 512)               0         \n",
      "_________________________________________________________________\n",
      "hidden_layer2 (Dense)        (None, 256)               131328    \n",
      "_________________________________________________________________\n",
      "dropout_5 (Dropout)          (None, 256)               0         \n",
      "_________________________________________________________________\n",
      "hidden_layer3 (Dense)        (None, 128)               32896     \n",
      "_________________________________________________________________\n",
      "dropout_6 (Dropout)          (None, 128)               0         \n",
      "_________________________________________________________________\n",
      "output (Dense)               (None, 10)                1290      \n",
      "=================================================================\n",
      "Total params: 1,738,890\n",
      "Trainable params: 1,738,890\n",
      "Non-trainable params: 0\n",
      "_________________________________________________________________\n",
      "Train on 50000 samples, validate on 10000 samples\n",
      "Epoch 1/50\n",
      "50000/50000 [==============================] - 19s 372us/step - loss: 2.3123 - acc: 0.1359 - val_loss: 2.1774 - val_acc: 0.2563\n",
      "Epoch 2/50\n",
      "50000/50000 [==============================] - 11s 221us/step - loss: 2.1686 - acc: 0.1872 - val_loss: 2.0386 - val_acc: 0.2880\n",
      "Epoch 3/50\n",
      "50000/50000 [==============================] - 13s 262us/step - loss: 2.0922 - acc: 0.2208 - val_loss: 1.9718 - val_acc: 0.3167\n",
      "Epoch 4/50\n",
      "50000/50000 [==============================] - 13s 255us/step - loss: 2.0424 - acc: 0.2408 - val_loss: 1.9179 - val_acc: 0.3286\n",
      "Epoch 5/50\n",
      "50000/50000 [==============================] - 11s 220us/step - loss: 2.0036 - acc: 0.2566 - val_loss: 1.8794 - val_acc: 0.3400\n",
      "Epoch 6/50\n",
      "50000/50000 [==============================] - 11s 229us/step - loss: 1.9663 - acc: 0.2768 - val_loss: 1.8505 - val_acc: 0.3487\n",
      "Epoch 7/50\n",
      "50000/50000 [==============================] - 11s 217us/step - loss: 1.9476 - acc: 0.2820 - val_loss: 1.8256 - val_acc: 0.3578\n",
      "Epoch 8/50\n",
      "50000/50000 [==============================] - 14s 287us/step - loss: 1.9256 - acc: 0.2970 - val_loss: 1.8033 - val_acc: 0.3638\n",
      "Epoch 9/50\n",
      "50000/50000 [==============================] - 13s 264us/step - loss: 1.9108 - acc: 0.3002 - val_loss: 1.7860 - val_acc: 0.3705\n",
      "Epoch 10/50\n",
      "50000/50000 [==============================] - 16s 321us/step - loss: 1.8839 - acc: 0.3125 - val_loss: 1.7667 - val_acc: 0.3743\n",
      "Epoch 11/50\n",
      "50000/50000 [==============================] - 12s 244us/step - loss: 1.8740 - acc: 0.3205 - val_loss: 1.7469 - val_acc: 0.3826\n",
      "Epoch 12/50\n",
      "50000/50000 [==============================] - 13s 255us/step - loss: 1.8623 - acc: 0.3224 - val_loss: 1.7316 - val_acc: 0.3902\n",
      "Epoch 13/50\n",
      "50000/50000 [==============================] - 15s 297us/step - loss: 1.8435 - acc: 0.3299 - val_loss: 1.7140 - val_acc: 0.3917\n",
      "Epoch 14/50\n",
      "50000/50000 [==============================] - 14s 285us/step - loss: 1.8368 - acc: 0.3339 - val_loss: 1.7084 - val_acc: 0.3990\n",
      "Epoch 15/50\n",
      "50000/50000 [==============================] - 14s 287us/step - loss: 1.8230 - acc: 0.3401 - val_loss: 1.6903 - val_acc: 0.4040\n",
      "Epoch 16/50\n",
      "50000/50000 [==============================] - 12s 238us/step - loss: 1.8124 - acc: 0.3457 - val_loss: 1.6789 - val_acc: 0.4051\n",
      "Epoch 17/50\n",
      "50000/50000 [==============================] - 12s 248us/step - loss: 1.7982 - acc: 0.3480 - val_loss: 1.6700 - val_acc: 0.4092\n",
      "Epoch 18/50\n",
      "50000/50000 [==============================] - 13s 258us/step - loss: 1.7917 - acc: 0.3512 - val_loss: 1.6597 - val_acc: 0.4121\n",
      "Epoch 19/50\n",
      "50000/50000 [==============================] - 12s 245us/step - loss: 1.7821 - acc: 0.3568 - val_loss: 1.6464 - val_acc: 0.4172\n",
      "Epoch 20/50\n",
      "50000/50000 [==============================] - 14s 276us/step - loss: 1.7688 - acc: 0.3605 - val_loss: 1.6478 - val_acc: 0.4170\n",
      "Epoch 21/50\n",
      "50000/50000 [==============================] - 13s 259us/step - loss: 1.7657 - acc: 0.3623 - val_loss: 1.6320 - val_acc: 0.4212\n",
      "Epoch 22/50\n",
      "50000/50000 [==============================] - 13s 260us/step - loss: 1.7513 - acc: 0.3681 - val_loss: 1.6270 - val_acc: 0.4277\n",
      "Epoch 23/50\n",
      "50000/50000 [==============================] - 14s 289us/step - loss: 1.7442 - acc: 0.3702 - val_loss: 1.6072 - val_acc: 0.4361\n",
      "Epoch 24/50\n",
      "50000/50000 [==============================] - 14s 273us/step - loss: 1.7385 - acc: 0.3709 - val_loss: 1.6191 - val_acc: 0.4278\n",
      "Epoch 25/50\n",
      "50000/50000 [==============================] - 12s 240us/step - loss: 1.7348 - acc: 0.3756 - val_loss: 1.6085 - val_acc: 0.4305\n",
      "Epoch 26/50\n",
      "50000/50000 [==============================] - 12s 237us/step - loss: 1.7214 - acc: 0.3783 - val_loss: 1.5940 - val_acc: 0.4354\n",
      "Epoch 27/50\n",
      "50000/50000 [==============================] - 15s 305us/step - loss: 1.7182 - acc: 0.3817 - val_loss: 1.5921 - val_acc: 0.4349\n",
      "Epoch 28/50\n",
      "50000/50000 [==============================] - 14s 286us/step - loss: 1.7104 - acc: 0.3868 - val_loss: 1.5867 - val_acc: 0.4382\n",
      "Epoch 29/50\n",
      "50000/50000 [==============================] - 11s 228us/step - loss: 1.7086 - acc: 0.3886 - val_loss: 1.5648 - val_acc: 0.4490\n",
      "Epoch 30/50\n",
      "50000/50000 [==============================] - 11s 226us/step - loss: 1.6994 - acc: 0.3899 - val_loss: 1.5727 - val_acc: 0.4447\n",
      "Epoch 31/50\n",
      "50000/50000 [==============================] - 15s 300us/step - loss: 1.6905 - acc: 0.3947 - val_loss: 1.5609 - val_acc: 0.4469\n",
      "Epoch 32/50\n",
      "50000/50000 [==============================] - 10s 198us/step - loss: 1.6816 - acc: 0.3969 - val_loss: 1.5532 - val_acc: 0.4503\n",
      "Epoch 33/50\n",
      "50000/50000 [==============================] - 10s 198us/step - loss: 1.6766 - acc: 0.3969 - val_loss: 1.5523 - val_acc: 0.4510\n",
      "Epoch 34/50\n",
      "50000/50000 [==============================] - 10s 204us/step - loss: 1.6759 - acc: 0.3972 - val_loss: 1.5464 - val_acc: 0.4542\n",
      "Epoch 35/50\n",
      "50000/50000 [==============================] - 10s 196us/step - loss: 1.6700 - acc: 0.4007 - val_loss: 1.5370 - val_acc: 0.4545\n",
      "Epoch 36/50\n",
      "50000/50000 [==============================] - 10s 196us/step - loss: 1.6663 - acc: 0.4012 - val_loss: 1.5324 - val_acc: 0.4513\n",
      "Epoch 37/50\n",
      "50000/50000 [==============================] - 10s 195us/step - loss: 1.6594 - acc: 0.4039 - val_loss: 1.5323 - val_acc: 0.4532\n",
      "Epoch 38/50\n",
      "50000/50000 [==============================] - 10s 194us/step - loss: 1.6480 - acc: 0.4075 - val_loss: 1.5269 - val_acc: 0.4597\n",
      "Epoch 39/50\n",
      "50000/50000 [==============================] - 10s 197us/step - loss: 1.6520 - acc: 0.4088 - val_loss: 1.5193 - val_acc: 0.4609\n",
      "Epoch 40/50\n",
      "50000/50000 [==============================] - 10s 200us/step - loss: 1.6423 - acc: 0.4112 - val_loss: 1.5195 - val_acc: 0.4608\n",
      "Epoch 41/50\n",
      "50000/50000 [==============================] - 10s 199us/step - loss: 1.6357 - acc: 0.4128 - val_loss: 1.5088 - val_acc: 0.4609\n",
      "Epoch 42/50\n",
      "50000/50000 [==============================] - 10s 206us/step - loss: 1.6354 - acc: 0.4136 - val_loss: 1.5194 - val_acc: 0.4658\n",
      "Epoch 43/50\n",
      "50000/50000 [==============================] - 10s 196us/step - loss: 1.6295 - acc: 0.4150 - val_loss: 1.5042 - val_acc: 0.4652\n",
      "Epoch 44/50\n",
      "50000/50000 [==============================] - 10s 200us/step - loss: 1.6252 - acc: 0.4169 - val_loss: 1.5002 - val_acc: 0.4677\n",
      "Epoch 45/50\n",
      "50000/50000 [==============================] - 10s 199us/step - loss: 1.6192 - acc: 0.4188 - val_loss: 1.5004 - val_acc: 0.4645\n",
      "Epoch 46/50\n",
      "50000/50000 [==============================] - 10s 196us/step - loss: 1.6133 - acc: 0.4208 - val_loss: 1.4843 - val_acc: 0.4691\n",
      "Epoch 47/50\n",
      "50000/50000 [==============================] - 10s 199us/step - loss: 1.6108 - acc: 0.4209 - val_loss: 1.4892 - val_acc: 0.4666\n",
      "Epoch 48/50\n",
      "50000/50000 [==============================] - 10s 205us/step - loss: 1.6066 - acc: 0.4206 - val_loss: 1.4844 - val_acc: 0.4709\n",
      "Epoch 49/50\n"
     ]
    },
    {
     "name": "stdout",
     "output_type": "stream",
     "text": [
      "50000/50000 [==============================] - 10s 195us/step - loss: 1.5989 - acc: 0.4286 - val_loss: 1.4843 - val_acc: 0.4672\n",
      "Epoch 50/50\n",
      "50000/50000 [==============================] - 10s 193us/step - loss: 1.5989 - acc: 0.4268 - val_loss: 1.4741 - val_acc: 0.4765\n"
     ]
    }
   ],
   "source": [
    "model = build_mlp(input_shape=x_train.shape[1:], drp_ratio=Dropout_EXP)\n",
    "model.summary()\n",
    "optimizer = keras.optimizers.SGD(lr=LEARNING_RATE, nesterov=True, momentum=MOMENTUM)\n",
    "model.compile(loss=\"categorical_crossentropy\", metrics=[\"accuracy\"], optimizer=optimizer)\n",
    "\n",
    "model.fit(x_train, y_train, \n",
    "          epochs=EPOCHS, \n",
    "          batch_size=BATCH_SIZE, \n",
    "          validation_data=(x_test, y_test), \n",
    "          shuffle=True)\n",
    "\n",
    "# Collect results\n",
    "train_loss = model.history.history[\"loss\"]\n",
    "valid_loss = model.history.history[\"val_loss\"]\n",
    "train_acc = model.history.history[\"acc\"]\n",
    "valid_acc = model.history.history[\"val_acc\"]"
   ]
  },
  {
   "cell_type": "code",
   "execution_count": 11,
   "metadata": {},
   "outputs": [
    {
     "data": {
      "image/png": "[encoded data removed]",
      "text/plain": [
       "<Figure size 432x288 with 1 Axes>"
      ]
     },
     "metadata": {
      "needs_background": "light"
     },
     "output_type": "display_data"
    },
    {
     "data": {
      "image/png": "[encoded data removed]",
      "text/plain": [
       "<Figure size 432x288 with 1 Axes>"
      ]
     },
     "metadata": {
      "needs_background": "light"
     },
     "output_type": "display_data"
    }
   ],
   "source": [
    "import matplotlib.pyplot as plt\n",
    "%matplotlib inline\n",
    "\n",
    "plt.plot(range(len(train_loss)), train_loss, label=\"train loss\")\n",
    "plt.plot(range(len(valid_loss)), valid_loss, label=\"valid loss\")\n",
    "plt.legend()\n",
    "plt.title(\"Loss\")\n",
    "plt.show()\n",
    "\n",
    "plt.plot(range(len(train_acc)), train_acc, label=\"train accuracy\")\n",
    "plt.plot(range(len(valid_acc)), valid_acc, label=\"valid accuracy\")\n",
    "plt.legend()\n",
    "plt.title(\"Accuracy\")\n",
    "plt.show()"
   ]
  },
  {
   "cell_type": "code",
   "execution_count": null,
   "metadata": {},
   "outputs": [],
   "source": []
  }
 ],
 "metadata": {
  "kernelspec": {
   "display_name": "Python 3",
   "language": "python",
   "name": "python3"
  },
  "language_info": {
   "codemirror_mode": {
    "name": "ipython",
    "version": 3
   },
   "file_extension": ".py",
   "mimetype": "text/x-python",
   "name": "python",
   "nbconvert_exporter": "python",
   "pygments_lexer": "ipython3",
   "version": "3.6.8"
  }
 },
 "nbformat": 4,
 "nbformat_minor": 2
}
